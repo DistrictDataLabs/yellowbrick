{
 "cells": [
  {
   "cell_type": "code",
   "execution_count": 5,
   "metadata": {
    "collapsed": false
   },
   "outputs": [],
   "source": [
    "%matplotlib inline"
   ]
  },
  {
   "cell_type": "code",
   "execution_count": 6,
   "metadata": {
    "collapsed": true
   },
   "outputs": [],
   "source": [
    "# yellowbrick.model_selection.CVScoreVisualizer\n",
    "#\n",
    "#\n",
    "# Author:   Prema Damodaran Roman\n",
    "\n",
    "#\n",
    "# Copyright (C) 2018 District Data Labs\n",
    "# For license information, see LICENSE.txt\n",
    "#\n",
    "# ID: CVScoreVisualizer.py [7f47800] pdamodaran@users.noreply.github.com $"
   ]
  },
  {
   "cell_type": "code",
   "execution_count": 8,
   "metadata": {
    "collapsed": false
   },
   "outputs": [],
   "source": [
    "##########################################################################\n",
    "## Imports\n",
    "##########################################################################\n",
    "\n",
    "import warnings\n",
    "import numpy as np\n",
    "import matplotlib as mpl\n",
    "import matplotlib.pyplot as plt\n",
    "\n",
    "from yellowbrick.base import ModelVisualizer\n",
    "from sklearn.model_selection import cross_val_score"
   ]
  },
  {
   "cell_type": "code",
   "execution_count": null,
   "metadata": {
    "collapsed": true
   },
   "outputs": [],
   "source": [
    "# Use cross_val_score in the score method\n",
    "# I think all else stays the same\n",
    "# except for the draw method\n",
    "class CVScoreVisualizer(ModelVisualizer):\n",
    "    "
   ]
  }
 ],
 "metadata": {
  "kernelspec": {
   "display_name": "Python 3",
   "language": "python",
   "name": "python3"
  },
  "language_info": {
   "codemirror_mode": {
    "name": "ipython",
    "version": 3
   },
   "file_extension": ".py",
   "mimetype": "text/x-python",
   "name": "python",
   "nbconvert_exporter": "python",
   "pygments_lexer": "ipython3",
   "version": "3.6.0"
  }
 },
 "nbformat": 4,
 "nbformat_minor": 0
}
