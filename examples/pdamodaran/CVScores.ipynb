{
 "cells": [
  {
   "cell_type": "code",
   "execution_count": 25,
   "metadata": {
    "collapsed": false
   },
   "outputs": [
    {
     "name": "stdout",
     "output_type": "stream",
     "text": [
      "The autoreload extension is already loaded. To reload it, use:\n",
      "  %reload_ext autoreload\n"
     ]
    }
   ],
   "source": [
    "%matplotlib inline\n",
    "%load_ext autoreload\n",
    "\n",
    "%autoreload 2"
   ]
  },
  {
   "cell_type": "code",
   "execution_count": 2,
   "metadata": {
    "collapsed": true
   },
   "outputs": [],
   "source": [
    "# yellowbrick.model_selection.CVScores\n",
    "#\n",
    "#\n",
    "# Author:   Prema Damodaran Roman\n",
    "\n",
    "#\n",
    "# Copyright (C) 2018 District Data Labs\n",
    "# For license information, see LICENSE.txt\n",
    "#\n",
    "# ID: CVScores.py [7f47800] pdamodaran@users.noreply.github.com $"
   ]
  },
  {
   "cell_type": "code",
   "execution_count": 21,
   "metadata": {
    "collapsed": false
   },
   "outputs": [],
   "source": [
    "##########################################################################\n",
    "## Imports\n",
    "##########################################################################\n",
    "\n",
    "import warnings\n",
    "import numpy as np\n",
    "import matplotlib as mpl\n",
    "import matplotlib.pyplot as plt\n",
    "import matplotlib.ticker as ticker\n",
    "\n",
    "from yellowbrick.base import ModelVisualizer\n",
    "from sklearn.model_selection import cross_val_score"
   ]
  },
  {
   "cell_type": "code",
   "execution_count": 4,
   "metadata": {
    "collapsed": false
   },
   "outputs": [],
   "source": [
    "class CVScores(ModelVisualizer):\n",
    "    \"\"\"\n",
    "    CVScores displays cross validation scores as a bar chart and the \n",
    "    average of the scores as a horizontal line\n",
    "    \"\"\"\n",
    "    def __init__(self, model, ax=None, cv=None, scoring=None, **kwargs):    \n",
    "        \"\"\"\n",
    "        Initialize the visualization with many of the options required\n",
    "        in order to make most visualizations work.\n",
    "        \n",
    "        These parameters can be influenced later on in the visualization\n",
    "        process, but can and should be set as early as possible.\n",
    "        \n",
    "        Parameters\n",
    "        ---------- \n",
    "        \n",
    "        model : a scikit-learn estimator\n",
    "            An object that implements ``fit`` and ``predict``, can be a\n",
    "            classifier, regressor, or clusterer so long as there is also a valid\n",
    "            associated scoring metric.\n",
    "            Note that the object is cloned for each validation.\n",
    "        \n",
    "        ax : matplotlib.Axes object, optional\n",
    "            The axes object to plot the figure on.\n",
    "        \n",
    "        cv : int, cross-validation generator or an iterable, optional\n",
    "            Determines the cross-validation splitting strategy.\n",
    "            Possible inputs for cv are:\n",
    "              - None, to use the default 3-fold cross-validation,\n",
    "              - integer, to specify the number of folds.\n",
    "              - An object to be used as a cross-validation generator.\n",
    "              - An iterable yielding train/test splits.\n",
    "        \n",
    "            see the scikit-learn\n",
    "            `cross-validation guide <http://scikit-learn.org/stable/modules/cross_validation.html>`_\n",
    "            for more information on the possible strategies that can be used here.\n",
    "        \n",
    "        scoring : string, callable or None, optional, default: None\n",
    "            A string or scorer callable object / function with signature\n",
    "            ``scorer(estimator, X, y)``. \n",
    "        \n",
    "            See scikit-learn model evaluation documentation for names of possible metrics.\n",
    "        \n",
    "        kwargs : dict\n",
    "            Keyword arguments that are passed to the base class and may influence\n",
    "            the visualization as defined in other Visualizers.            \n",
    "        \n",
    "        \"\"\"\n",
    "        super(CVScores, self).__init__(model, ax=ax, **kwargs)\n",
    "        \n",
    "        self.cv = cv\n",
    "        self.scoring=scoring\n",
    "        \n",
    "    def fit(self, X, y, **kwargs):\n",
    "        \"\"\"\n",
    "        Fits the learning curve with the wrapped model to the specified data.\n",
    "        Draws training and test score curves and saves the scores to the\n",
    "        estimator.\n",
    "        \n",
    "        Parameters\n",
    "        ----------\n",
    "        X : array-like, shape (n_samples, n_features)\n",
    "            Training vector, where n_samples is the number of samples and\n",
    "            n_features is the number of features.\n",
    "            \n",
    "        y : array-like, shape (n_samples) or (n_samples, n_features), optional\n",
    "            Target relative to X for classification or regression;\n",
    "            None for unsupervised learning.\n",
    "            \n",
    "        Returns\n",
    "        -------\n",
    "        self : instance\n",
    "            \n",
    "        \"\"\"\n",
    "            \n",
    "        self.cv_scores_ = cross_val_score(self.estimator, X, y, cv=self.cv, scoring=self.scoring)\n",
    "        self.cv_scores_mean_ = np.mean(self.cv_scores_)\n",
    "        \n",
    "        self.draw()\n",
    "        return self\n",
    "    \n",
    "    def draw(self, **kwargs):\n",
    "        \"\"\"\n",
    "            displays the bar chart of cv scores\n",
    "        \"\"\"\n",
    "        fig = plt.figure()\n",
    "        fig, ax = plt.subplots()\n",
    "        self.fig = fig\n",
    "        self.ax = ax\n",
    "        minimum = min(self.cv_scores_)\n",
    "        if minimum > 0.05:\n",
    "            minimum = minimum - 0.05 \n",
    "        plt.ylim(minimum, 1)\n",
    "        xvals = range(1, len(self.cv_scores_) + 1, 1)\n",
    "        width = kwargs.pop(\"width\", 0.3)\n",
    "        self.ax.bar(xvals, self.cv_scores_, width = width)\n",
    "        color = kwargs.pop(\"color\", \"b\")\n",
    "        linewidth = kwargs.pop(\"linewidth\", 1)\n",
    "        self.ax.axhline(self.cv_scores_mean_, color=color, label='Average', linestyle='--', linewidth=linewidth)\n",
    "        \n",
    "        return self.ax\n",
    "        \n",
    "    def finalize(self, **kwargs):\n",
    "        \"\"\"\n",
    "        Add the title, legend, and other visual final touches to the plot.\n",
    "        \"\"\"\n",
    "        # Set the title of the figure\n",
    "        self.set_title('Cross Validation Scores')\n",
    "        #self.set_title('Cross Validation Scores for {}'.format(self.name))\n",
    "        \n",
    "         # Add the legend\n",
    "        loc = kwargs.pop(\"loc\", \"best\")\n",
    "        edgecolor = kwargs.pop(\"edgecolor\", \"k\")\n",
    "        self.ax.legend(frameon=True, loc=loc, edgecolor=edgecolor)\n",
    "\n",
    "        #set spacing between the x ticks\n",
    "        self.ax.xaxis.set_major_locator(ticker.MultipleLocator(1))\n",
    "        \n",
    "        # Set the axis labels\n",
    "        self.ax.set_xlabel('Training Instances')\n",
    "        self.ax.set_ylabel('Score')\n",
    "        \n",
    "    "
   ]
  },
  {
   "cell_type": "code",
   "execution_count": 5,
   "metadata": {
    "collapsed": false
   },
   "outputs": [
    {
     "data": {
      "text/plain": [
       "<matplotlib.figure.Figure at 0x10330a630>"
      ]
     },
     "metadata": {},
     "output_type": "display_data"
    },
    {
     "data": {
      "image/png": "[encoded data removed]",
      "text/plain": [
       "<matplotlib.figure.Figure at 0x107dbe080>"
      ]
     },
     "metadata": {},
     "output_type": "display_data"
    }
   ],
   "source": [
    "#example 1\n",
    "from sklearn.model_selection import KFold, cross_val_score, ShuffleSplit, StratifiedKFold\n",
    "from sklearn import datasets, svm, linear_model \n",
    "\n",
    "iris = datasets.load_iris()\n",
    "clf = svm.SVC(kernel='linear', C=1)\n",
    "\n",
    "#scores = cross_val_score(clf, iris.data, iris.target, cv=5)\n",
    "X = iris.data\n",
    "y = iris.target\n",
    "\n",
    "visualizer = CVScores(model=clf, cv=5, scoring='f1_macro')\n",
    "visualizer.fit(X,y)\n",
    "g = visualizer.poof()\n"
   ]
  },
  {
   "cell_type": "code",
   "execution_count": 6,
   "metadata": {
    "collapsed": false
   },
   "outputs": [
    {
     "data": {
      "text/plain": [
       "<matplotlib.figure.Figure at 0x103bae828>"
      ]
     },
     "metadata": {},
     "output_type": "display_data"
    },
    {
     "data": {
      "image/png": "[encoded data removed]",
      "text/plain": [
       "<matplotlib.figure.Figure at 0x10807ceb8>"
      ]
     },
     "metadata": {},
     "output_type": "display_data"
    }
   ],
   "source": [
    "#Example 2\n",
    "#example 1 - using k_fold\n",
    "digits = datasets.load_digits()\n",
    "X_digits = digits.data\n",
    "y_digits = digits.target\n",
    "k_fold = KFold(n_splits=3)\n",
    "svc = svm.SVC(C=1, kernel='linear')\n",
    "cross_val_score(svc, X_digits, y_digits, cv=k_fold, n_jobs=-1)\n",
    "\n",
    "visualizer = CVScores(model=svc, cv=k_fold, scoring='f1_macro')\n",
    "visualizer.fit(X_digits,y_digits)\n",
    "g = visualizer.poof()"
   ]
  },
  {
   "cell_type": "code",
   "execution_count": 7,
   "metadata": {
    "collapsed": true
   },
   "outputs": [],
   "source": [
    "#this example does not work"
   ]
  },
  {
   "cell_type": "code",
   "execution_count": 29,
   "metadata": {
    "collapsed": false
   },
   "outputs": [],
   "source": [
    "##########################################################################\n",
    "## Imports\n",
    "##########################################################################\n",
    "\n",
    "import sys\n",
    "sys.path.append(\"../../..\")\n",
    "import warnings\n",
    "import numpy as np\n",
    "import matplotlib as mpl\n",
    "import matplotlib.pyplot as plt\n",
    "import matplotlib.ticker as ticker\n",
    "\n",
    "#sys.path.append(\"../..\")\n",
    "import yellowbrick\n",
    "from yellowbrick.base import ModelVisualizer\n",
    "from sklearn.model_selection import cross_val_score"
   ]
  },
  {
   "cell_type": "code",
   "execution_count": 30,
   "metadata": {
    "collapsed": true
   },
   "outputs": [],
   "source": [
    "class CVScores(ModelVisualizer):\n",
    "    \"\"\"\n",
    "    CVScores displays cross validation scores as a bar chart and the \n",
    "    average of the scores as a horizontal line\n",
    "    \"\"\"\n",
    "    def __init__(self, model, ax=None, cv=None, scoring=None, **kwargs):    \n",
    "        \"\"\"\n",
    "        Initialize the visualization with many of the options required\n",
    "        in order to make most visualizations work.\n",
    "        \n",
    "        These parameters can be influenced later on in the visualization\n",
    "        process, but can and should be set as early as possible.\n",
    "        \n",
    "        Parameters\n",
    "        ---------- \n",
    "        \n",
    "        model : a scikit-learn estimator\n",
    "            An object that implements ``fit`` and ``predict``, can be a\n",
    "            classifier, regressor, or clusterer so long as there is also a valid\n",
    "            associated scoring metric.\n",
    "            Note that the object is cloned for each validation.\n",
    "        \n",
    "        ax : matplotlib.Axes object, optional\n",
    "            The axes object to plot the figure on.\n",
    "        \n",
    "        cv : int, cross-validation generator or an iterable, optional\n",
    "            Determines the cross-validation splitting strategy.\n",
    "            Possible inputs for cv are:\n",
    "              - None, to use the default 3-fold cross-validation,\n",
    "              - integer, to specify the number of folds.\n",
    "              - An object to be used as a cross-validation generator.\n",
    "              - An iterable yielding train/test splits.\n",
    "        \n",
    "            see the scikit-learn\n",
    "            `cross-validation guide <http://scikit-learn.org/stable/modules/cross_validation.html>`_\n",
    "            for more information on the possible strategies that can be used here.\n",
    "        \n",
    "        scoring : string, callable or None, optional, default: None\n",
    "            A string or scorer callable object / function with signature\n",
    "            ``scorer(estimator, X, y)``. \n",
    "        \n",
    "            See scikit-learn model evaluation documentation for names of possible metrics.\n",
    "        \n",
    "        kwargs : dict\n",
    "            Keyword arguments that are passed to the base class and may influence\n",
    "            the visualization as defined in other Visualizers.            \n",
    "        \n",
    "        \"\"\"\n",
    "        super(CVScores, self).__init__(model, ax=ax, **kwargs)\n",
    "        \n",
    "        self.cv = cv\n",
    "        self.scoring=scoring\n",
    "        \n",
    "    def fit(self, X, y, **kwargs):\n",
    "        \"\"\"\n",
    "        Fits the learning curve with the wrapped model to the specified data.\n",
    "        Draws training and test score curves and saves the scores to the\n",
    "        estimator.\n",
    "        \n",
    "        Parameters\n",
    "        ----------\n",
    "        X : array-like, shape (n_samples, n_features)\n",
    "            Training vector, where n_samples is the number of samples and\n",
    "            n_features is the number of features.\n",
    "            \n",
    "        y : array-like, shape (n_samples) or (n_samples, n_features), optional\n",
    "            Target relative to X for classification or regression;\n",
    "            None for unsupervised learning.\n",
    "            \n",
    "        Returns\n",
    "        -------\n",
    "        self : instance\n",
    "            \n",
    "        \"\"\"\n",
    "           \n",
    "        super(CVScores, self).fit(X, y, **kwargs)\n",
    "        \n",
    "        self.cv_scores_ = cross_val_score(self.estimator, X, y, cv=self.cv, scoring=self.scoring)\n",
    "        self.cv_scores_mean_ = np.mean(self.cv_scores_)\n",
    "        \n",
    "        self.draw()\n",
    "        return self\n",
    "    \n",
    "    def draw(self, **kwargs):\n",
    "        \"\"\"\n",
    "            displays the bar chart of cv scores\n",
    "        \"\"\"\n",
    "        #fig = plt.figure()\n",
    "        #fig, ax = plt.subplots()\n",
    "        #self.fig = fig\n",
    "        #self.ax = plt.gca()\n",
    "        minimum = min(self.cv_scores_)\n",
    "        if minimum > 0.05:\n",
    "            minimum = minimum - 0.05 \n",
    "        plt.ylim(minimum, 1)\n",
    "        xvals = range(1, len(self.cv_scores_) + 1, 1)\n",
    "        width = kwargs.pop(\"width\", 0.3)\n",
    "        self.ax.bar(xvals, self.cv_scores_, width = width)\n",
    "        color = kwargs.pop(\"color\", \"b\")\n",
    "        linewidth = kwargs.pop(\"linewidth\", 1)\n",
    "        self.ax.axhline(self.cv_scores_mean_, color=color, label='Average', linestyle='--', linewidth=linewidth)\n",
    "        \n",
    "        return self.ax\n",
    "        \n",
    "    def finalize(self, **kwargs):\n",
    "        \"\"\"\n",
    "        Add the title, legend, and other visual final touches to the plot.\n",
    "        \"\"\"\n",
    "        # Set the title of the figure\n",
    "        #self.set_title('Cross Validation Scores')\n",
    "        self.set_title('Cross Validation Scores for {}'.format(self.name))\n",
    "        \n",
    "         # Add the legend\n",
    "        loc = kwargs.pop(\"loc\", \"best\")\n",
    "        edgecolor = kwargs.pop(\"edgecolor\", \"k\")\n",
    "        self.ax.legend(frameon=True, loc=loc, edgecolor=edgecolor)\n",
    "\n",
    "        #set spacing between the x ticks\n",
    "        self.ax.xaxis.set_major_locator(ticker.MultipleLocator(1))\n",
    "        \n",
    "        # Set the axis labels\n",
    "        self.ax.set_xlabel('Training Instances')\n",
    "        self.ax.set_ylabel('Score')"
   ]
  },
  {
   "cell_type": "code",
   "execution_count": 31,
   "metadata": {
    "collapsed": false
   },
   "outputs": [
    {
     "ename": "AttributeError",
     "evalue": "'NoneType' object has no attribute 'bar'",
     "output_type": "error",
     "traceback": [
      "\u001b[0;31m---------------------------------------------------------------------------\u001b[0m",
      "\u001b[0;31mAttributeError\u001b[0m                            Traceback (most recent call last)",
      "\u001b[0;32m<ipython-input-31-8298ef2733f5>\u001b[0m in \u001b[0;36m<module>\u001b[0;34m()\u001b[0m\n\u001b[1;32m     11\u001b[0m \u001b[0;34m\u001b[0m\u001b[0m\n\u001b[1;32m     12\u001b[0m \u001b[0mvisualizer\u001b[0m \u001b[0;34m=\u001b[0m \u001b[0mCVScores\u001b[0m\u001b[0;34m(\u001b[0m\u001b[0mmodel\u001b[0m\u001b[0;34m=\u001b[0m\u001b[0mclf\u001b[0m\u001b[0;34m,\u001b[0m \u001b[0mcv\u001b[0m\u001b[0;34m=\u001b[0m\u001b[0;36m5\u001b[0m\u001b[0;34m,\u001b[0m \u001b[0mscoring\u001b[0m\u001b[0;34m=\u001b[0m\u001b[0;34m'f1_macro'\u001b[0m\u001b[0;34m)\u001b[0m\u001b[0;34m\u001b[0m\u001b[0m\n\u001b[0;32m---> 13\u001b[0;31m \u001b[0mvisualizer\u001b[0m\u001b[0;34m.\u001b[0m\u001b[0mfit\u001b[0m\u001b[0;34m(\u001b[0m\u001b[0mX\u001b[0m\u001b[0;34m,\u001b[0m\u001b[0my\u001b[0m\u001b[0;34m)\u001b[0m\u001b[0;34m\u001b[0m\u001b[0m\n\u001b[0m\u001b[1;32m     14\u001b[0m \u001b[0mg\u001b[0m \u001b[0;34m=\u001b[0m \u001b[0mvisualizer\u001b[0m\u001b[0;34m.\u001b[0m\u001b[0mpoof\u001b[0m\u001b[0;34m(\u001b[0m\u001b[0;34m)\u001b[0m\u001b[0;34m\u001b[0m\u001b[0m\n",
      "\u001b[0;32m<ipython-input-30-8b21aca9f3a3>\u001b[0m in \u001b[0;36mfit\u001b[0;34m(self, X, y, **kwargs)\u001b[0m\n\u001b[1;32m     79\u001b[0m         \u001b[0mself\u001b[0m\u001b[0;34m.\u001b[0m\u001b[0mcv_scores_mean_\u001b[0m \u001b[0;34m=\u001b[0m \u001b[0mnp\u001b[0m\u001b[0;34m.\u001b[0m\u001b[0mmean\u001b[0m\u001b[0;34m(\u001b[0m\u001b[0mself\u001b[0m\u001b[0;34m.\u001b[0m\u001b[0mcv_scores_\u001b[0m\u001b[0;34m)\u001b[0m\u001b[0;34m\u001b[0m\u001b[0m\n\u001b[1;32m     80\u001b[0m \u001b[0;34m\u001b[0m\u001b[0m\n\u001b[0;32m---> 81\u001b[0;31m         \u001b[0mself\u001b[0m\u001b[0;34m.\u001b[0m\u001b[0mdraw\u001b[0m\u001b[0;34m(\u001b[0m\u001b[0;34m)\u001b[0m\u001b[0;34m\u001b[0m\u001b[0m\n\u001b[0m\u001b[1;32m     82\u001b[0m         \u001b[0;32mreturn\u001b[0m \u001b[0mself\u001b[0m\u001b[0;34m\u001b[0m\u001b[0m\n\u001b[1;32m     83\u001b[0m \u001b[0;34m\u001b[0m\u001b[0m\n",
      "\u001b[0;32m<ipython-input-30-8b21aca9f3a3>\u001b[0m in \u001b[0;36mdraw\u001b[0;34m(self, **kwargs)\u001b[0m\n\u001b[1;32m     96\u001b[0m         \u001b[0mxvals\u001b[0m \u001b[0;34m=\u001b[0m \u001b[0mrange\u001b[0m\u001b[0;34m(\u001b[0m\u001b[0;36m1\u001b[0m\u001b[0;34m,\u001b[0m \u001b[0mlen\u001b[0m\u001b[0;34m(\u001b[0m\u001b[0mself\u001b[0m\u001b[0;34m.\u001b[0m\u001b[0mcv_scores_\u001b[0m\u001b[0;34m)\u001b[0m \u001b[0;34m+\u001b[0m \u001b[0;36m1\u001b[0m\u001b[0;34m,\u001b[0m \u001b[0;36m1\u001b[0m\u001b[0;34m)\u001b[0m\u001b[0;34m\u001b[0m\u001b[0m\n\u001b[1;32m     97\u001b[0m         \u001b[0mwidth\u001b[0m \u001b[0;34m=\u001b[0m \u001b[0mkwargs\u001b[0m\u001b[0;34m.\u001b[0m\u001b[0mpop\u001b[0m\u001b[0;34m(\u001b[0m\u001b[0;34m\"width\"\u001b[0m\u001b[0;34m,\u001b[0m \u001b[0;36m0.3\u001b[0m\u001b[0;34m)\u001b[0m\u001b[0;34m\u001b[0m\u001b[0m\n\u001b[0;32m---> 98\u001b[0;31m         \u001b[0mself\u001b[0m\u001b[0;34m.\u001b[0m\u001b[0max\u001b[0m\u001b[0;34m.\u001b[0m\u001b[0mbar\u001b[0m\u001b[0;34m(\u001b[0m\u001b[0mxvals\u001b[0m\u001b[0;34m,\u001b[0m \u001b[0mself\u001b[0m\u001b[0;34m.\u001b[0m\u001b[0mcv_scores_\u001b[0m\u001b[0;34m,\u001b[0m \u001b[0mwidth\u001b[0m \u001b[0;34m=\u001b[0m \u001b[0mwidth\u001b[0m\u001b[0;34m)\u001b[0m\u001b[0;34m\u001b[0m\u001b[0m\n\u001b[0m\u001b[1;32m     99\u001b[0m         \u001b[0mcolor\u001b[0m \u001b[0;34m=\u001b[0m \u001b[0mkwargs\u001b[0m\u001b[0;34m.\u001b[0m\u001b[0mpop\u001b[0m\u001b[0;34m(\u001b[0m\u001b[0;34m\"color\"\u001b[0m\u001b[0;34m,\u001b[0m \u001b[0;34m\"b\"\u001b[0m\u001b[0;34m)\u001b[0m\u001b[0;34m\u001b[0m\u001b[0m\n\u001b[1;32m    100\u001b[0m         \u001b[0mlinewidth\u001b[0m \u001b[0;34m=\u001b[0m \u001b[0mkwargs\u001b[0m\u001b[0;34m.\u001b[0m\u001b[0mpop\u001b[0m\u001b[0;34m(\u001b[0m\u001b[0;34m\"linewidth\"\u001b[0m\u001b[0;34m,\u001b[0m \u001b[0;36m1\u001b[0m\u001b[0;34m)\u001b[0m\u001b[0;34m\u001b[0m\u001b[0m\n",
      "\u001b[0;31mAttributeError\u001b[0m: 'NoneType' object has no attribute 'bar'"
     ]
    },
    {
     "data": {
      "image/png": "[encoded data removed]",
      "text/plain": [
       "<matplotlib.figure.Figure at 0x105533f98>"
      ]
     },
     "metadata": {},
     "output_type": "display_data"
    }
   ],
   "source": [
    "#example 1\n",
    "from sklearn.model_selection import KFold, cross_val_score, ShuffleSplit, StratifiedKFold\n",
    "from sklearn import datasets, svm, linear_model \n",
    "\n",
    "iris = datasets.load_iris()\n",
    "clf = svm.SVC(kernel='linear', C=1)\n",
    "\n",
    "#scores = cross_val_score(clf, iris.data, iris.target, cv=5)\n",
    "X = iris.data\n",
    "y = iris.target\n",
    "\n",
    "visualizer = CVScores(model=clf, cv=5, scoring='f1_macro')\n",
    "visualizer.fit(X,y)\n",
    "g = visualizer.poof()"
   ]
  },
  {
   "cell_type": "code",
   "execution_count": null,
   "metadata": {
    "collapsed": true
   },
   "outputs": [],
   "source": []
  }
 ],
 "metadata": {
  "kernelspec": {
   "display_name": "Python 3",
   "language": "python",
   "name": "python3"
  },
  "language_info": {
   "codemirror_mode": {
    "name": "ipython",
    "version": 3
   },
   "file_extension": ".py",
   "mimetype": "text/x-python",
   "name": "python",
   "nbconvert_exporter": "python",
   "pygments_lexer": "ipython3",
   "version": "3.6.0"
  }
 },
 "nbformat": 4,
 "nbformat_minor": 0
}
