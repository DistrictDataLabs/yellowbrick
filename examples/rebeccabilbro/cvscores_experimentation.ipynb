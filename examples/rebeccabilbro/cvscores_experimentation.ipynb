{
 "cells": [
  {
   "cell_type": "markdown",
   "metadata": {},
   "source": [
    "## Experimenting with CV Scores\n",
    "\n",
    "``CVScores`` displays cross validation scores as a bar chart with the\n",
    "  average of the scores as a horizontal line."
   ]
  },
  {
   "cell_type": "code",
   "execution_count": 27,
   "metadata": {},
   "outputs": [],
   "source": [
    "import pandas as pd\n",
    "import matplotlib.pyplot as plt\n",
    "\n",
    "from sklearn.naive_bayes import MultinomialNB\n",
    "from sklearn.model_selection import StratifiedKFold\n",
    "\n",
    "from yellowbrick.model_selection import CVScores"
   ]
  },
  {
   "cell_type": "code",
   "execution_count": 28,
   "metadata": {},
   "outputs": [],
   "source": [
    "import os\n",
    "\n",
    "from yellowbrick.download import download_all\n",
    "\n",
    "## The path to the test data sets\n",
    "FIXTURES  = os.path.join(os.getcwd(), \"data\")\n",
    "\n",
    "## Dataset loading mechanisms\n",
    "datasets = {\n",
    "    \"bikeshare\": os.path.join(FIXTURES, \"bikeshare\", \"bikeshare.csv\"),\n",
    "    \"concrete\": os.path.join(FIXTURES, \"concrete\", \"concrete.csv\"),\n",
    "    \"credit\": os.path.join(FIXTURES, \"credit\", \"credit.csv\"),\n",
    "    \"energy\": os.path.join(FIXTURES, \"energy\", \"energy.csv\"),\n",
    "    \"game\": os.path.join(FIXTURES, \"game\", \"game.csv\"),\n",
    "    \"mushroom\": os.path.join(FIXTURES, \"mushroom\", \"mushroom.csv\"),\n",
    "    \"occupancy\": os.path.join(FIXTURES, \"occupancy\", \"occupancy.csv\"),\n",
    "    \"spam\": os.path.join(FIXTURES, \"spam\", \"spam.csv\"),\n",
    "}\n",
    "\n",
    "\n",
    "def load_data(name, download=True):\n",
    "    \"\"\"\n",
    "    Loads and wrangles the passed in dataset by name.\n",
    "    If download is specified, this method will download any missing files.\n",
    "    \"\"\"\n",
    "\n",
    "    # Get the path from the datasets\n",
    "    path = datasets[name]\n",
    "\n",
    "    # Check if the data exists, otherwise download or raise\n",
    "    if not os.path.exists(path):\n",
    "        if download:\n",
    "            download_all()\n",
    "        else:\n",
    "            raise ValueError((\n",
    "                \"'{}' dataset has not been downloaded, \"\n",
    "                \"use the download.py module to fetch datasets\"\n",
    "            ).format(name))\n",
    "\n",
    "\n",
    "    # Return the data frame\n",
    "    return pd.read_csv(path)"
   ]
  },
  {
   "cell_type": "markdown",
   "metadata": {},
   "source": [
    "## Classification"
   ]
  },
  {
   "cell_type": "code",
   "execution_count": 29,
   "metadata": {},
   "outputs": [
    {
     "data": {
      "image/png": "[encoded data removed]",
      "text/plain": [
       "<Figure size 432x288 with 1 Axes>"
      ]
     },
     "metadata": {},
     "output_type": "display_data"
    }
   ],
   "source": [
    "from sklearn.naive_bayes import MultinomialNB\n",
    "from sklearn.model_selection import StratifiedKFold\n",
    "\n",
    "from yellowbrick.model_selection import CVScores\n",
    "\n",
    "room = load_data(\"occupancy\")\n",
    "\n",
    "features = [\"temperature\", \"relative humidity\", \"light\", \"C02\", \"humidity\"]\n",
    "\n",
    "# Extract the numpy arrays from the data frame\n",
    "X = room[features].values\n",
    "y = room.occupancy.values\n",
    "\n",
    "# Create a new figure and axes\n",
    "_, ax = plt.subplots()\n",
    "\n",
    "# Create a cross-validation strategy\n",
    "cv = StratifiedKFold(12)\n",
    "\n",
    "# Create the cv score visualizer\n",
    "oz = CVScores(\n",
    "    MultinomialNB(), ax=ax, cv=cv, scoring='f1_weighted'\n",
    ")\n",
    "\n",
    "oz.fit(X, y)\n",
    "oz.poof()\n"
   ]
  },
  {
   "cell_type": "markdown",
   "metadata": {},
   "source": [
    "## Regression"
   ]
  },
  {
   "cell_type": "code",
   "execution_count": 30,
   "metadata": {},
   "outputs": [
    {
     "data": {
      "image/png": "[encoded data removed]",
      "text/plain": [
       "<Figure size 432x288 with 1 Axes>"
      ]
     },
     "metadata": {},
     "output_type": "display_data"
    }
   ],
   "source": [
    "from sklearn.linear_model import Ridge\n",
    "from sklearn.model_selection import KFold\n",
    "\n",
    "\n",
    "energy = load_data(\"energy\")\n",
    "\n",
    "targets = [\"heating load\", \"cooling load\"]\n",
    "features = [col for col in energy.columns if col not in targets]\n",
    "\n",
    "X = energy[features]\n",
    "y = energy[targets[1]]\n",
    "\n",
    "# Create a new figure and axes\n",
    "_, ax = plt.subplots()\n",
    "\n",
    "cv = KFold(12)\n",
    "\n",
    "oz = CVScores(\n",
    "    Ridge(), ax=ax, cv=cv, scoring='r2'\n",
    ")\n",
    "\n",
    "oz.fit(X, y)\n",
    "oz.poof()"
   ]
  }
 ],
 "metadata": {
  "kernelspec": {
   "display_name": "Python 3",
   "language": "python",
   "name": "python3"
  },
  "language_info": {
   "codemirror_mode": {
    "name": "ipython",
    "version": 3
   },
   "file_extension": ".py",
   "mimetype": "text/x-python",
   "name": "python",
   "nbconvert_exporter": "python",
   "pygments_lexer": "ipython3",
   "version": "3.6.5"
  }
 },
 "nbformat": 4,
 "nbformat_minor": 2
}
