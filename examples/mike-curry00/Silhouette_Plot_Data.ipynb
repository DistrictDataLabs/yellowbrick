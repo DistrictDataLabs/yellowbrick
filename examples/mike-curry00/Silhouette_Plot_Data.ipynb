{
 "cells": [
  {
   "cell_type": "markdown",
   "metadata": {},
   "source": [
    "# Visuals for NFL Receiver Clusters\n",
    "- 2018 regular season statistics for all players targeted at least once.\n",
    "- Data sourced from [Pro-Football-Reference](https://www.pro-football-reference.com/years/2018/receiving.htm)"
   ]
  },
  {
   "cell_type": "code",
   "execution_count": 1,
   "metadata": {},
   "outputs": [],
   "source": [
    "import pandas as pd\n",
    "import matplotlib as mpl\n",
    "import matplotlib.pyplot as plt\n",
    "from sklearn.cluster import KMeans\n",
    "from yellowbrick.cluster import KElbowVisualizer, SilhouetteVisualizer\n",
    "\n",
    "%matplotlib inline"
   ]
  },
  {
   "cell_type": "code",
   "execution_count": 2,
   "metadata": {},
   "outputs": [],
   "source": [
    "receivers_df = pd.read_csv('data/receivers.csv.gz', compression='gzip')"
   ]
  },
  {
   "cell_type": "code",
   "execution_count": 3,
   "metadata": {},
   "outputs": [],
   "source": [
    "receivers_df = receivers_df[receivers_df['Tgt'] >= 20]  # Subpopulation of all receivers with at least 20 targets"
   ]
  },
  {
   "cell_type": "code",
   "execution_count": 4,
   "metadata": {},
   "outputs": [
    {
     "data": {
      "text/html": [
       "<div>\n",
       "<style scoped>\n",
       "    .dataframe tbody tr th:only-of-type {\n",
       "        vertical-align: middle;\n",
       "    }\n",
       "\n",
       "    .dataframe tbody tr th {\n",
       "        vertical-align: top;\n",
       "    }\n",
       "\n",
       "    .dataframe thead th {\n",
       "        text-align: right;\n",
       "    }\n",
       "</style>\n",
       "<table border=\"1\" class=\"dataframe\">\n",
       "  <thead>\n",
       "    <tr style=\"text-align: right;\">\n",
       "      <th></th>\n",
       "      <th>Rk</th>\n",
       "      <th>Player</th>\n",
       "      <th>Id</th>\n",
       "      <th>Tm</th>\n",
       "      <th>Age</th>\n",
       "      <th>Pos</th>\n",
       "      <th>G</th>\n",
       "      <th>GS</th>\n",
       "      <th>Tgt</th>\n",
       "      <th>Rec</th>\n",
       "      <th>...</th>\n",
       "      <th>Yds</th>\n",
       "      <th>Y/R</th>\n",
       "      <th>TD</th>\n",
       "      <th>Lng</th>\n",
       "      <th>Y/Tgt</th>\n",
       "      <th>R/G</th>\n",
       "      <th>Y/G</th>\n",
       "      <th>Fmb</th>\n",
       "      <th>ProBowl</th>\n",
       "      <th>FirstTeamAllPro</th>\n",
       "    </tr>\n",
       "  </thead>\n",
       "  <tbody>\n",
       "    <tr>\n",
       "      <th>0</th>\n",
       "      <td>1</td>\n",
       "      <td>Michael Thomas</td>\n",
       "      <td>ThomMi05</td>\n",
       "      <td>NOR</td>\n",
       "      <td>25</td>\n",
       "      <td>WR</td>\n",
       "      <td>16</td>\n",
       "      <td>16</td>\n",
       "      <td>147</td>\n",
       "      <td>125</td>\n",
       "      <td>...</td>\n",
       "      <td>1405</td>\n",
       "      <td>11.2</td>\n",
       "      <td>9</td>\n",
       "      <td>72</td>\n",
       "      <td>9.6</td>\n",
       "      <td>7.8</td>\n",
       "      <td>87.8</td>\n",
       "      <td>2</td>\n",
       "      <td>1</td>\n",
       "      <td>1</td>\n",
       "    </tr>\n",
       "    <tr>\n",
       "      <th>1</th>\n",
       "      <td>2</td>\n",
       "      <td>Zach Ertz</td>\n",
       "      <td>ErtzZa00</td>\n",
       "      <td>PHI</td>\n",
       "      <td>28</td>\n",
       "      <td>TE</td>\n",
       "      <td>16</td>\n",
       "      <td>16</td>\n",
       "      <td>156</td>\n",
       "      <td>116</td>\n",
       "      <td>...</td>\n",
       "      <td>1163</td>\n",
       "      <td>10.0</td>\n",
       "      <td>8</td>\n",
       "      <td>34</td>\n",
       "      <td>7.5</td>\n",
       "      <td>7.3</td>\n",
       "      <td>72.7</td>\n",
       "      <td>1</td>\n",
       "      <td>1</td>\n",
       "      <td>0</td>\n",
       "    </tr>\n",
       "    <tr>\n",
       "      <th>2</th>\n",
       "      <td>3</td>\n",
       "      <td>DeAndre Hopkins</td>\n",
       "      <td>HopkDe00</td>\n",
       "      <td>HOU</td>\n",
       "      <td>26</td>\n",
       "      <td>WR</td>\n",
       "      <td>16</td>\n",
       "      <td>16</td>\n",
       "      <td>163</td>\n",
       "      <td>115</td>\n",
       "      <td>...</td>\n",
       "      <td>1572</td>\n",
       "      <td>13.7</td>\n",
       "      <td>11</td>\n",
       "      <td>49</td>\n",
       "      <td>9.6</td>\n",
       "      <td>7.2</td>\n",
       "      <td>98.3</td>\n",
       "      <td>2</td>\n",
       "      <td>1</td>\n",
       "      <td>1</td>\n",
       "    </tr>\n",
       "    <tr>\n",
       "      <th>3</th>\n",
       "      <td>4</td>\n",
       "      <td>Julio Jones</td>\n",
       "      <td>JoneJu02</td>\n",
       "      <td>ATL</td>\n",
       "      <td>29</td>\n",
       "      <td>WR</td>\n",
       "      <td>16</td>\n",
       "      <td>16</td>\n",
       "      <td>170</td>\n",
       "      <td>113</td>\n",
       "      <td>...</td>\n",
       "      <td>1677</td>\n",
       "      <td>14.8</td>\n",
       "      <td>8</td>\n",
       "      <td>58</td>\n",
       "      <td>9.9</td>\n",
       "      <td>7.1</td>\n",
       "      <td>104.8</td>\n",
       "      <td>2</td>\n",
       "      <td>1</td>\n",
       "      <td>0</td>\n",
       "    </tr>\n",
       "    <tr>\n",
       "      <th>4</th>\n",
       "      <td>5</td>\n",
       "      <td>Adam Thielen</td>\n",
       "      <td>ThieAd00</td>\n",
       "      <td>MIN</td>\n",
       "      <td>28</td>\n",
       "      <td>WR</td>\n",
       "      <td>16</td>\n",
       "      <td>16</td>\n",
       "      <td>153</td>\n",
       "      <td>113</td>\n",
       "      <td>...</td>\n",
       "      <td>1373</td>\n",
       "      <td>12.2</td>\n",
       "      <td>9</td>\n",
       "      <td>68</td>\n",
       "      <td>9.0</td>\n",
       "      <td>7.1</td>\n",
       "      <td>85.8</td>\n",
       "      <td>1</td>\n",
       "      <td>1</td>\n",
       "      <td>0</td>\n",
       "    </tr>\n",
       "  </tbody>\n",
       "</table>\n",
       "<p>5 rows × 21 columns</p>\n",
       "</div>"
      ],
      "text/plain": [
       "   Rk           Player        Id   Tm  Age Pos   G  GS  Tgt  Rec  \\\n",
       "0   1   Michael Thomas  ThomMi05  NOR   25  WR  16  16  147  125   \n",
       "1   2        Zach Ertz  ErtzZa00  PHI   28  TE  16  16  156  116   \n",
       "2   3  DeAndre Hopkins  HopkDe00  HOU   26  WR  16  16  163  115   \n",
       "3   4      Julio Jones  JoneJu02  ATL   29  WR  16  16  170  113   \n",
       "4   5     Adam Thielen  ThieAd00  MIN   28  WR  16  16  153  113   \n",
       "\n",
       "        ...          Yds   Y/R  TD  Lng  Y/Tgt  R/G    Y/G  Fmb  ProBowl  \\\n",
       "0       ...         1405  11.2   9   72    9.6  7.8   87.8    2        1   \n",
       "1       ...         1163  10.0   8   34    7.5  7.3   72.7    1        1   \n",
       "2       ...         1572  13.7  11   49    9.6  7.2   98.3    2        1   \n",
       "3       ...         1677  14.8   8   58    9.9  7.1  104.8    2        1   \n",
       "4       ...         1373  12.2   9   68    9.0  7.1   85.8    1        1   \n",
       "\n",
       "   FirstTeamAllPro  \n",
       "0                1  \n",
       "1                0  \n",
       "2                1  \n",
       "3                0  \n",
       "4                0  \n",
       "\n",
       "[5 rows x 21 columns]"
      ]
     },
     "execution_count": 4,
     "metadata": {},
     "output_type": "execute_result"
    }
   ],
   "source": [
    "receivers_df.head()"
   ]
  },
  {
   "cell_type": "code",
   "execution_count": 5,
   "metadata": {},
   "outputs": [],
   "source": [
    "features = ['Rec', 'Yds', 'TD', 'Fmb', 'Ctch_Rate']\n",
    "X = receivers_df[features].values"
   ]
  },
  {
   "cell_type": "code",
   "execution_count": 6,
   "metadata": {},
   "outputs": [
    {
     "data": {
      "image/png": "[encoded data removed]",
      "text/plain": [
       "<Figure size 600x400 with 1 Axes>"
      ]
     },
     "metadata": {},
     "output_type": "display_data"
    }
   ],
   "source": [
    "elbow_visualizer = KElbowVisualizer(KMeans(), k=(2,16), timings=False)\n",
    "elbow_visualizer.fit(X)\n",
    "elbow_visualizer.size = (600, 400)\n",
    "elbow_visualizer.poof()"
   ]
  },
  {
   "cell_type": "code",
   "execution_count": 7,
   "metadata": {},
   "outputs": [
    {
     "data": {
      "image/png": "[encoded data removed]",
      "text/plain": [
       "<Figure size 600x400 with 1 Axes>"
      ]
     },
     "metadata": {},
     "output_type": "display_data"
    }
   ],
   "source": [
    "model = KMeans(4)\n",
    "silhouette_visualizer = SilhouetteVisualizer(model)\n",
    "\n",
    "silhouette_visualizer.fit(X)\n",
    "silhouette_visualizer.size = (600, 400)\n",
    "silhouette_visualizer.poof()"
   ]
  },
  {
   "cell_type": "code",
   "execution_count": null,
   "metadata": {},
   "outputs": [],
   "source": []
  },
  {
   "cell_type": "code",
   "execution_count": null,
   "metadata": {},
   "outputs": [],
   "source": []
  }
 ],
 "metadata": {
  "kernelspec": {
   "display_name": "Python 3",
   "language": "python",
   "name": "python3"
  },
  "language_info": {
   "codemirror_mode": {
    "name": "ipython",
    "version": 3
   },
   "file_extension": ".py",
   "mimetype": "text/x-python",
   "name": "python",
   "nbconvert_exporter": "python",
   "pygments_lexer": "ipython3",
   "version": "3.6.8"
  }
 },
 "nbformat": 4,
 "nbformat_minor": 2
}
