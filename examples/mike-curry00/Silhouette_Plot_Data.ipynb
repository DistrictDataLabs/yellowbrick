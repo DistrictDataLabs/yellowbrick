{
 "cells": [
  {
   "cell_type": "markdown",
   "metadata": {},
   "source": [
    "# Visuals for NFL Receiver Clusters\n",
    "- 2018 regular season statistics for all players targeted at least once.\n",
    "- Data sourced from [Pro-Football-Reference](https://www.pro-football-reference.com/years/2018/receiving.htm)"
   ]
  },
  {
   "cell_type": "code",
   "execution_count": 1,
   "metadata": {},
   "outputs": [],
   "source": [
    "import pandas as pd\n",
    "import matplotlib as mpl\n",
    "import matplotlib.pyplot as plt\n",
    "from sklearn.cluster import KMeans\n",
    "from yellowbrick.cluster import KElbowVisualizer, SilhouetteVisualizer\n",
    "import yellowbrick.datasets as ybdata\n",
    "\n",
    "%matplotlib inline"
   ]
  },
  {
   "cell_type": "code",
   "execution_count": 2,
   "metadata": {},
   "outputs": [],
   "source": [
    "nfl_df = (ybdata.load_nfl(return_dataset=True)\n",
    "                .to_dataframe()\n",
    "                .query('Tgt >= 20'))"
   ]
  },
  {
   "cell_type": "code",
   "execution_count": 3,
   "metadata": {},
   "outputs": [
    {
     "data": {
      "text/html": [
       "<div>\n",
       "<style scoped>\n",
       "    .dataframe tbody tr th:only-of-type {\n",
       "        vertical-align: middle;\n",
       "    }\n",
       "\n",
       "    .dataframe tbody tr th {\n",
       "        vertical-align: top;\n",
       "    }\n",
       "\n",
       "    .dataframe thead th {\n",
       "        text-align: right;\n",
       "    }\n",
       "</style>\n",
       "<table border=\"1\" class=\"dataframe\">\n",
       "  <thead>\n",
       "    <tr style=\"text-align: right;\">\n",
       "      <th></th>\n",
       "      <th>Rk</th>\n",
       "      <th>Player</th>\n",
       "      <th>Id</th>\n",
       "      <th>Tm</th>\n",
       "      <th>Age</th>\n",
       "      <th>G</th>\n",
       "      <th>GS</th>\n",
       "      <th>Tgt</th>\n",
       "      <th>Rec</th>\n",
       "      <th>Ctch_Rate</th>\n",
       "      <th>...</th>\n",
       "      <th>FirstTeamAllPro</th>\n",
       "      <th>C_pos</th>\n",
       "      <th>CB_pos</th>\n",
       "      <th>DT_pos</th>\n",
       "      <th>FB_pos</th>\n",
       "      <th>QB_pos</th>\n",
       "      <th>RB_pos</th>\n",
       "      <th>T_pos</th>\n",
       "      <th>TE_pos</th>\n",
       "      <th>WR_pos</th>\n",
       "    </tr>\n",
       "  </thead>\n",
       "  <tbody>\n",
       "    <tr>\n",
       "      <th>0</th>\n",
       "      <td>1</td>\n",
       "      <td>Michael Thomas</td>\n",
       "      <td>ThomMi05</td>\n",
       "      <td>NOR</td>\n",
       "      <td>25</td>\n",
       "      <td>16</td>\n",
       "      <td>16</td>\n",
       "      <td>147</td>\n",
       "      <td>125</td>\n",
       "      <td>0.850</td>\n",
       "      <td>...</td>\n",
       "      <td>1</td>\n",
       "      <td>0</td>\n",
       "      <td>0</td>\n",
       "      <td>0</td>\n",
       "      <td>0</td>\n",
       "      <td>0</td>\n",
       "      <td>0</td>\n",
       "      <td>0</td>\n",
       "      <td>0</td>\n",
       "      <td>1</td>\n",
       "    </tr>\n",
       "    <tr>\n",
       "      <th>1</th>\n",
       "      <td>2</td>\n",
       "      <td>Zach Ertz</td>\n",
       "      <td>ErtzZa00</td>\n",
       "      <td>PHI</td>\n",
       "      <td>28</td>\n",
       "      <td>16</td>\n",
       "      <td>16</td>\n",
       "      <td>156</td>\n",
       "      <td>116</td>\n",
       "      <td>0.744</td>\n",
       "      <td>...</td>\n",
       "      <td>0</td>\n",
       "      <td>0</td>\n",
       "      <td>0</td>\n",
       "      <td>0</td>\n",
       "      <td>0</td>\n",
       "      <td>0</td>\n",
       "      <td>0</td>\n",
       "      <td>0</td>\n",
       "      <td>1</td>\n",
       "      <td>0</td>\n",
       "    </tr>\n",
       "    <tr>\n",
       "      <th>2</th>\n",
       "      <td>3</td>\n",
       "      <td>DeAndre Hopkins</td>\n",
       "      <td>HopkDe00</td>\n",
       "      <td>HOU</td>\n",
       "      <td>26</td>\n",
       "      <td>16</td>\n",
       "      <td>16</td>\n",
       "      <td>163</td>\n",
       "      <td>115</td>\n",
       "      <td>0.706</td>\n",
       "      <td>...</td>\n",
       "      <td>1</td>\n",
       "      <td>0</td>\n",
       "      <td>0</td>\n",
       "      <td>0</td>\n",
       "      <td>0</td>\n",
       "      <td>0</td>\n",
       "      <td>0</td>\n",
       "      <td>0</td>\n",
       "      <td>0</td>\n",
       "      <td>1</td>\n",
       "    </tr>\n",
       "    <tr>\n",
       "      <th>3</th>\n",
       "      <td>4</td>\n",
       "      <td>Julio Jones</td>\n",
       "      <td>JoneJu02</td>\n",
       "      <td>ATL</td>\n",
       "      <td>29</td>\n",
       "      <td>16</td>\n",
       "      <td>16</td>\n",
       "      <td>170</td>\n",
       "      <td>113</td>\n",
       "      <td>0.665</td>\n",
       "      <td>...</td>\n",
       "      <td>0</td>\n",
       "      <td>0</td>\n",
       "      <td>0</td>\n",
       "      <td>0</td>\n",
       "      <td>0</td>\n",
       "      <td>0</td>\n",
       "      <td>0</td>\n",
       "      <td>0</td>\n",
       "      <td>0</td>\n",
       "      <td>1</td>\n",
       "    </tr>\n",
       "    <tr>\n",
       "      <th>4</th>\n",
       "      <td>5</td>\n",
       "      <td>Adam Thielen</td>\n",
       "      <td>ThieAd00</td>\n",
       "      <td>MIN</td>\n",
       "      <td>28</td>\n",
       "      <td>16</td>\n",
       "      <td>16</td>\n",
       "      <td>153</td>\n",
       "      <td>113</td>\n",
       "      <td>0.739</td>\n",
       "      <td>...</td>\n",
       "      <td>0</td>\n",
       "      <td>0</td>\n",
       "      <td>0</td>\n",
       "      <td>0</td>\n",
       "      <td>0</td>\n",
       "      <td>0</td>\n",
       "      <td>0</td>\n",
       "      <td>0</td>\n",
       "      <td>0</td>\n",
       "      <td>1</td>\n",
       "    </tr>\n",
       "  </tbody>\n",
       "</table>\n",
       "<p>5 rows × 29 columns</p>\n",
       "</div>"
      ],
      "text/plain": [
       "   Rk           Player        Id   Tm  Age   G  GS  Tgt  Rec  Ctch_Rate  \\\n",
       "0   1   Michael Thomas  ThomMi05  NOR   25  16  16  147  125      0.850   \n",
       "1   2        Zach Ertz  ErtzZa00  PHI   28  16  16  156  116      0.744   \n",
       "2   3  DeAndre Hopkins  HopkDe00  HOU   26  16  16  163  115      0.706   \n",
       "3   4      Julio Jones  JoneJu02  ATL   29  16  16  170  113      0.665   \n",
       "4   5     Adam Thielen  ThieAd00  MIN   28  16  16  153  113      0.739   \n",
       "\n",
       "    ...    FirstTeamAllPro  C_pos  CB_pos  DT_pos  FB_pos  QB_pos  RB_pos  \\\n",
       "0   ...                  1      0       0       0       0       0       0   \n",
       "1   ...                  0      0       0       0       0       0       0   \n",
       "2   ...                  1      0       0       0       0       0       0   \n",
       "3   ...                  0      0       0       0       0       0       0   \n",
       "4   ...                  0      0       0       0       0       0       0   \n",
       "\n",
       "   T_pos  TE_pos  WR_pos  \n",
       "0      0       0       1  \n",
       "1      0       1       0  \n",
       "2      0       0       1  \n",
       "3      0       0       1  \n",
       "4      0       0       1  \n",
       "\n",
       "[5 rows x 29 columns]"
      ]
     },
     "execution_count": 3,
     "metadata": {},
     "output_type": "execute_result"
    }
   ],
   "source": [
    "nfl_df.head()"
   ]
  },
  {
   "cell_type": "code",
   "execution_count": 4,
   "metadata": {},
   "outputs": [],
   "source": [
    "features = ['Rec', 'Yds', 'TD', 'Fmb', 'Ctch_Rate']\n",
    "X = nfl_df[features].values"
   ]
  },
  {
   "cell_type": "code",
   "execution_count": 5,
   "metadata": {},
   "outputs": [
    {
     "data": {
      "image/png": "[encoded data removed]",
      "text/plain": [
       "<Figure size 600x400 with 1 Axes>"
      ]
     },
     "metadata": {
      "needs_background": "light"
     },
     "output_type": "display_data"
    }
   ],
   "source": [
    "elbow_visualizer = KElbowVisualizer(KMeans(), k=(2,10), timings=False)\n",
    "elbow_visualizer.fit(X)\n",
    "elbow_visualizer.size = (600, 400)\n",
    "elbow_visualizer.poof()"
   ]
  },
  {
   "cell_type": "code",
   "execution_count": 6,
   "metadata": {},
   "outputs": [
    {
     "data": {
      "image/png": "[encoded data removed]",
      "text/plain": [
       "<Figure size 600x400 with 1 Axes>"
      ]
     },
     "metadata": {
      "needs_background": "light"
     },
     "output_type": "display_data"
    }
   ],
   "source": [
    "model = KMeans(4)\n",
    "silhouette_visualizer = SilhouetteVisualizer(model, colors='yellowbrick')\n",
    "\n",
    "silhouette_visualizer.fit(X)\n",
    "silhouette_visualizer.size = (600, 400)\n",
    "silhouette_visualizer.poof()"
   ]
  },
  {
   "cell_type": "code",
   "execution_count": null,
   "metadata": {},
   "outputs": [],
   "source": []
  }
 ],
 "metadata": {
  "kernelspec": {
   "display_name": "venv",
   "language": "python",
   "name": "venv"
  },
  "language_info": {
   "codemirror_mode": {
    "name": "ipython",
    "version": 3
   },
   "file_extension": ".py",
   "mimetype": "text/x-python",
   "name": "python",
   "nbconvert_exporter": "python",
   "pygments_lexer": "ipython3",
   "version": "3.6.8"
  }
 },
 "nbformat": 4,
 "nbformat_minor": 4
}
