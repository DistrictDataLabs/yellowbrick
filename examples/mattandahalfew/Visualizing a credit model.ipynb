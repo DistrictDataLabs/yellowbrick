{
 "cells": [
  {
   "cell_type": "code",
   "execution_count": 1,
   "metadata": {
    "collapsed": true
   },
   "outputs": [],
   "source": [
    "import numpy as np"
   ]
  },
  {
   "cell_type": "markdown",
   "metadata": {},
   "source": [
    "# Predicting credit default\n",
    "This dataset includes 30000 observations and whether or not they defaulted on their credit card. Observations include data such as credit limit, age, sex, highest education reached, and marital status. The dataset was obtained from the Tests section of Yellowbrick."
   ]
  },
  {
   "cell_type": "code",
   "execution_count": 2,
   "metadata": {
    "collapsed": false
   },
   "outputs": [
    {
     "name": "stderr",
     "output_type": "stream",
     "text": [
      "/usr/local/lib/python3.5/dist-packages/sklearn/cross_validation.py:44: DeprecationWarning: This module was deprecated in version 0.18 in favor of the model_selection module into which all the refactored classes and functions are moved. Also note that the interface of the new CV iterators are different from that of this module. This module will be removed in 0.20.\n",
      "  \"This module will be removed in 0.20.\", DeprecationWarning)\n"
     ]
    }
   ],
   "source": [
    "import os\n",
    "import zipfile\n",
    "import requests\n",
    "from sklearn.svm import LinearSVC\n",
    "import numpy.matlib\n",
    "from yellowbrick.classifier import ROCAUC"
   ]
  },
  {
   "cell_type": "code",
   "execution_count": 3,
   "metadata": {
    "collapsed": true
   },
   "outputs": [],
   "source": [
    "def add_column(data_array,new_column):\n",
    "    nc = numpy.reshape(new_column,(-1,1))\n",
    "    if data_array is None:\n",
    "        return nc\n",
    "    else:\n",
    "        return numpy.concatenate((data_array,nc),axis=1)"
   ]
  },
  {
   "cell_type": "code",
   "execution_count": 4,
   "metadata": {
    "collapsed": true
   },
   "outputs": [],
   "source": [
    "def add_categorical(data_array,new_column,datatype):\n",
    "    nc = numpy.reshape(new_column,(-1,1))\n",
    "    unq = numpy.unique(new_column)\n",
    "    nrows = numpy.size(new_column)\n",
    "    new_columns = None\n",
    "\n",
    "    for y in unq:\n",
    "        newcol = numpy.zeros((nrows,1),dtype=datatype)\n",
    "        newcol[numpy.where(nc==y)] = 1\n",
    "        if new_columns is None:\n",
    "            new_columns = newcol\n",
    "        else:\n",
    "            new_columns = numpy.concatenate((new_columns,newcol),axis=1)\n",
    "\n",
    "    if data_array is None:\n",
    "        return new_columns\n",
    "    else:\n",
    "        return numpy.concatenate((data_array,new_columns),axis=1)"
   ]
  },
  {
   "cell_type": "code",
   "execution_count": 5,
   "metadata": {
    "collapsed": true
   },
   "outputs": [],
   "source": [
    "creditdata_info = {\n",
    "        'url': 'https://s3.amazonaws.com/ddl-data-lake/yellowbrick/credit.zip',\n",
    "        'signature': '4a91339c69f55e18f3f48004328fbcb7868070b618208fed099920427b084e5e',\n",
    "        'type': 'numpy',\n",
    "    }"
   ]
  },
  {
   "cell_type": "code",
   "execution_count": 6,
   "metadata": {
    "collapsed": true
   },
   "outputs": [],
   "source": [
    "path = os.getcwd()\n",
    "response = requests.get(creditdata_info['url'], stream=True)\n",
    "dlpath = 'creditdata.zip'\n",
    "with open(dlpath, 'wb') as f:\n",
    "    for chunk in response.iter_content(65536):\n",
    "        f.write(chunk)"
   ]
  },
  {
   "cell_type": "code",
   "execution_count": 7,
   "metadata": {
    "collapsed": true
   },
   "outputs": [],
   "source": [
    "zf = zipfile.ZipFile(dlpath)\n",
    "zf.extractall(path)"
   ]
  },
  {
   "cell_type": "code",
   "execution_count": 8,
   "metadata": {
    "collapsed": true
   },
   "outputs": [],
   "source": [
    "credittxt_path = os.path.join(path,'credit','credit.csv')\n",
    "credit = np.genfromtxt(credittxt_path, dtype=float, delimiter=',', names=True)"
   ]
  },
  {
   "cell_type": "code",
   "execution_count": 9,
   "metadata": {
    "collapsed": true
   },
   "outputs": [],
   "source": [
    "credit_keys = credit.dtype.names\n",
    "datatype = credit.dtype[0]\n",
    "ncols = len(credit_keys)\n",
    "categorical_names = ['edu','married']\n",
    "y_name = 'default'\n",
    "credit_data = None\n",
    "for j in range(0,ncols):\n",
    "    if credit_keys[j] in categorical_names:\n",
    "        credit_data = add_categorical(credit_data,credit[credit_keys[j]],datatype)\n",
    "    elif credit_keys[j] == y_name:\n",
    "        y = credit[y_name].astype(int)\n",
    "    else:\n",
    "        credit_data = add_column(credit_data,credit[credit_keys[j]])"
   ]
  },
  {
   "cell_type": "code",
   "execution_count": 10,
   "metadata": {
    "collapsed": true
   },
   "outputs": [],
   "source": [
    "#Rescale the dataset by subtracting the mean from each column and dividing by the standard deviation\n",
    "datashape = credit_data.shape\n",
    "nrows = datashape[0]\n",
    "cmeans = np.mean(credit_data,0)\n",
    "repmeans = numpy.matlib.repmat(cmeans,nrows,1)\n",
    "mydata = credit_data - repmeans\n",
    "sstds = np.std(mydata,0)\n",
    "repstds = numpy.matlib.repmat(sstds,nrows,1)\n",
    "mydata = np.divide(mydata,repstds)"
   ]
  },
  {
   "cell_type": "code",
   "execution_count": 11,
   "metadata": {
    "collapsed": false
   },
   "outputs": [
    {
     "data": {
      "image/png": "[encoded data removed]",
      "text/plain": [
       "<matplotlib.figure.Figure at 0x7fa579003550>"
      ]
     },
     "metadata": {},
     "output_type": "display_data"
    }
   ],
   "source": [
    "visualizer = ROCAUC(LinearSVC())\n",
    "visualizer.fit(mydata,y)\n",
    "visualizer.score(mydata,y)\n",
    "visualizer.poof()"
   ]
  },
  {
   "cell_type": "code",
   "execution_count": null,
   "metadata": {
    "collapsed": true
   },
   "outputs": [],
   "source": [
    ""
   ]
  }
 ],
 "metadata": {
  "kernelspec": {
   "display_name": "Python 3",
   "language": "python",
   "name": "python3"
  },
  "language_info": {
   "codemirror_mode": {
    "name": "ipython",
    "version": 3.0
   },
   "file_extension": ".py",
   "mimetype": "text/x-python",
   "name": "python",
   "nbconvert_exporter": "python",
   "pygments_lexer": "ipython3",
   "version": "3.5.2"
  }
 },
 "nbformat": 4,
 "nbformat_minor": 0
}