{
 "cells": [
  {
   "cell_type": "code",
   "execution_count": 20,
   "metadata": {
    "collapsed": true
   },
   "outputs": [],
   "source": [
    "from __future__ import print_function\n",
    "%matplotlib inline "
   ]
  },
  {
   "cell_type": "markdown",
   "metadata": {},
   "source": [
    "# Sliders Example \n",
    "\n",
    "This is an example of interactive iPython workbook that uses widgets to meaningfully interact with visualization. "
   ]
  },
  {
   "cell_type": "code",
   "execution_count": 21,
   "metadata": {
    "collapsed": true
   },
   "outputs": [],
   "source": [
    "# Imports \n",
    "import numpy as np\n",
    "import pandas as pd\n",
    "import seaborn as sns\n",
    "import matplotlib.pyplot as plt\n",
    "\n",
    "from collections import OrderedDict\n",
    "from sklearn.pipeline import Pipeline\n",
    "from sklearn.preprocessing import Imputer \n",
    "from sklearn.linear_model import LinearRegression\n",
    "from sklearn.metrics import mean_squared_error as mse\n",
    "from ipywidgets import interact, interactive, fixed\n",
    "\n",
    "import ipywidgets as widgets"
   ]
  },
  {
   "cell_type": "code",
   "execution_count": 3,
   "metadata": {
    "collapsed": false
   },
   "outputs": [],
   "source": [
    "# Data Loading \n",
    "columns = OrderedDict([\n",
    "    (\"DAY\", \"the day of data collection\"),\n",
    "    (\"Q-E\", \"input flow to plant\"),\n",
    "    (\"ZN-E\", \"input Zinc to plant\"),\n",
    "    (\"PH-E\", \"input pH to plant\"),\n",
    "    (\"DBO-E\", \"input Biological demand of oxygen to plant\"),\n",
    "    (\"DQO-E\", \"input chemical demand of oxygen to plant\"),\n",
    "    (\"SS-E\", \"input suspended solids to plant\"),\n",
    "    (\"SSV-E\", \"input volatile supended solids to plant\"),\n",
    "    (\"SED-E\", \"input sediments to plant\"),\n",
    "    (\"COND-E\", \"input conductivity to plant\"),\n",
    "    (\"PH-P\", \"input pH to primary settler\"),\n",
    "    (\"DBO-P\", \"input Biological demand of oxygen to primary settler\"),\n",
    "    (\"SS-P\", \"input suspended solids to primary settler\"),\n",
    "    (\"SSV-P\", \"input volatile supended solids to primary settler\"),\n",
    "    (\"SED-P\", \"input sediments to primary settler\"),\n",
    "    (\"COND-P\", \"input conductivity to primary settler\"),\n",
    "    (\"PH-D\", \"input pH to secondary settler\"),\n",
    "    (\"DBO-D\", \"input Biological demand of oxygen to secondary settler\"),\n",
    "    (\"DQO-D\", \"input chemical demand of oxygen to secondary settler\"),\n",
    "    (\"SS-D\", \"input suspended solids to secondary settler\"),\n",
    "    (\"SSV-D\", \"input volatile supended solids to secondary settler\"),\n",
    "    (\"SED-D\", \"input sediments to secondary settler\"),\n",
    "    (\"COND-S\", \"input conductivity to secondary settler\"),\n",
    "    (\"PH-S\", \"output pH\"),\n",
    "    (\"DBO-S\", \"output Biological demand of oxygen\"),\n",
    "    (\"DQO-S\", \"output chemical demand of oxygen\"),\n",
    "    (\"SS-S\", \"output suspended solids\"),\n",
    "    (\"SSV-S\", \"output volatile supended solids\"),\n",
    "    (\"SED-S\", \"output sediments\"),\n",
    "    (\"COND-\", \"output conductivity\"),\n",
    "    (\"RD-DB-P\", \"performance input Biological demand of oxygen in primary settler\"),\n",
    "    (\"RD-SSP\", \"performance input suspended solids to primary settler\"),\n",
    "    (\"RD-SE-P\", \"performance input sediments to primary settler\"),\n",
    "    (\"RD-DB-S\", \"performance input Biological demand of oxygen to secondary settler\"),\n",
    "    (\"RD-DQ-S\", \"performance input chemical demand of oxygen to secondary settler\"),\n",
    "    (\"RD-DB-G\", \"global performance input Biological demand of oxygen\"),\n",
    "    (\"RD-DQ-G\", \"global performance input chemical demand of oxygen\"),\n",
    "    (\"RD-SSG\", \"global performance input suspended solids\"),\n",
    "    (\"RD-SED-G\", \"global performance input sediments\"),\n",
    "])\n",
    "\n",
    "data = pd.read_csv(\"data/water-treatment.data\", names=columns.keys())\n",
    "data = data.replace('?', np.nan)"
   ]
  },
  {
   "cell_type": "code",
   "execution_count": 4,
   "metadata": {
    "collapsed": false,
    "scrolled": false
   },
   "outputs": [],
   "source": [
    "# Capture only the numeric columns in the data set. \n",
    "numeric_columns = columns.keys()\n",
    "numeric_columns.remove(\"DAY\")\n",
    "data = data[numeric_columns].apply(pd.to_numeric)"
   ]
  },
  {
   "cell_type": "markdown",
   "metadata": {},
   "source": [
    "## 2D Rank Features "
   ]
  },
  {
   "cell_type": "code",
   "execution_count": 40,
   "metadata": {
    "collapsed": false,
    "scrolled": false
   },
   "outputs": [],
   "source": [
    "def apply_column_pairs(func):\n",
    "    \"\"\"\n",
    "    Applies a function to a pair of columns and returns a new \n",
    "    dataframe that contains the result of the function as a matrix\n",
    "    of each pair of columns. \n",
    "    \"\"\"\n",
    "    \n",
    "    def inner(df):\n",
    "        cols = pd.DataFrame([\n",
    "            [\n",
    "                func(df[acol], df[bcol]) for bcol in df.columns\n",
    "            ] for acol in df.columns\n",
    "        ])\n",
    "\n",
    "        cols.columns = df.columns\n",
    "        cols.index = df.columns \n",
    "        return cols\n",
    "\n",
    "    return inner \n",
    "\n",
    "\n",
    "@apply_column_pairs\n",
    "def least_square_error(cola, colb):\n",
    "    \"\"\"\n",
    "    Computes the Root Mean Squared Error of a linear regression \n",
    "    between two columns of data. \n",
    "    \"\"\"\n",
    "    x = cola.fillna(np.nanmean(cola))\n",
    "    y = colb.fillna(np.nanmean(colb))\n",
    "    \n",
    "    m, b = np.polyfit(x, y, 1)\n",
    "    yh  = (x * m) + b \n",
    "    return ((y-yh) ** 2).mean()"
   ]
  },
  {
   "cell_type": "code",
   "execution_count": 41,
   "metadata": {
    "collapsed": false
   },
   "outputs": [
    {
     "data": {
      "image/png": "[encoded data removed]",
      "text/plain": [
       "<matplotlib.figure.Figure at 0x10b017690>"
      ]
     },
     "metadata": {},
     "output_type": "display_data"
    }
   ],
   "source": [
    "labeled_metrics = {\n",
    "    'Pearson': 'pearson', \n",
    "    'Kendall Tao': 'kendall', \n",
    "    'Spearman': 'spearman', \n",
    "    'Pairwise Covariance': 'covariance',\n",
    "    'Least Squares Error': 'lse', \n",
    "}\n",
    "\n",
    "@interact(metric=labeled_metrics, data=fixed(data))\n",
    "def rank2d(data, metric='pearson'):\n",
    "    \"\"\"\n",
    "    Creates a visualization of pairwise ranking by column in the data. \n",
    "    \"\"\"\n",
    "    \n",
    "    # The different rank by 2d metrics. \n",
    "    metrics = {\n",
    "        \"pearson\": lambda df: df.corr('pearson'), \n",
    "        \"kendall\": lambda df: df.corr('kendall'), \n",
    "        \"spearman\": lambda df: df.corr('spearman'), \n",
    "        \"covariance\": lambda df: df.cov(), \n",
    "        \"lse\": least_square_error,\n",
    "    }\n",
    "    \n",
    "    # Quick check to make sure a valid metric is passed in. \n",
    "    if metric not in metrics:\n",
    "        raise ValueError(\n",
    "            \"'{}' not a valid metric, specify one of {}\".format(\n",
    "                metric, \", \".join(metrics.keys())\n",
    "            )\n",
    "        )\n",
    "    \n",
    "    \n",
    "    # Compute the correlation matrix\n",
    "    corr = metrics[metric](data)\n",
    "\n",
    "    # Generate a mask for the upper triangle\n",
    "    mask = np.zeros_like(corr, dtype=np.bool)\n",
    "    mask[np.triu_indices_from(mask)] = True\n",
    "\n",
    "    # Set up the matplotlib figure\n",
    "    f, ax = plt.subplots(figsize=(11, 9))\n",
    "    ax.set_title(\"{} metric across {} features\".format(metric.title(), len(data.columns)))\n",
    "    \n",
    "    # Draw the heatmap with the mask and correct aspect ratio\n",
    "    sns.heatmap(corr, mask=mask, vmax=.3,\n",
    "                square=True, xticklabels=5, yticklabels=5,\n",
    "                linewidths=.5, cbar_kws={\"shrink\": .5}, ax=ax)"
   ]
  }
 ],
 "metadata": {
  "kernelspec": {
   "display_name": "Python 2",
   "language": "python",
   "name": "python2"
  },
  "language_info": {
   "codemirror_mode": {
    "name": "ipython",
    "version": 2
   },
   "file_extension": ".py",
   "mimetype": "text/x-python",
   "name": "python",
   "nbconvert_exporter": "python",
   "pygments_lexer": "ipython2",
   "version": "2.7.12"
  }
 },
 "nbformat": 4,
 "nbformat_minor": 0
}
