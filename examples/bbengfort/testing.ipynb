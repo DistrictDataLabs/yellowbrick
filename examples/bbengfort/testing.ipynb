{
 "cells": [
  {
   "cell_type": "markdown",
   "metadata": {},
   "source": [
    "# Visual Diagnosis of Text Classification with Baleen \n",
    "\n",
    "This notebook has been created as part of the [Yellowbrick user study](http://www.scikit-yb.org/en/latest/evaluation.html). I hope to explore how visual methods might improve the workflow of text classification on a small to medium sized corpus. \n",
    "\n",
    "## Dataset \n",
    "\n",
    "The dataset used in this study is a sample of the [Baleen Corpus](http://baleen.districtdatalabs.com/). The Baleen corpus has been ingesting RSS feeds on the hour from a variety of topical feeds since March 2016, including news, hobbies, and political documents and currently has over 1.2M posts from 373 feeds. [Baleen](https://github.com/bbengfort/baleen) (an open source system) has a sister library called [Minke](https://github.com/bbengfort/minke) that provides multiprocessing support for dealing with Gigabytes worth of text. \n",
    "\n",
    "The dataset I'll use in this study is a sample of the larger data set that contains 68,052 or roughly 6% of the total corpus. For this test, I've chosen to use the preprocessed corpus, which means I won't have to do any tokenization, but can still apply normalization techniques. The corpus is described as follows:\n",
    "\n",
    "Baleen corpus contains 68,052 files in 12 categories.\n",
    "Structured as:\n",
    "\n",
    "- 1,200,378 paragraphs (17.639 mean paragraphs per file)\n",
    "- 2,058,635 sentences (1.715 mean sentences per paragraph).\n",
    "\n",
    "Word count of 44,821,870 with a vocabulary of 303,034 (147.910 lexical diversity).\n",
    "\n",
    "Category Counts: \n",
    "\n",
    "- books: 1,700 docs\n",
    "- business: 9,248 docs\n",
    "- cinema: 2,072 docs\n",
    "- cooking: 733 docs\n",
    "- data science: 692 docs\n",
    "- design: 1,259 docs\n",
    "- do it yourself: 2,620 docs\n",
    "- gaming: 2,884 docs\n",
    "- news: 33,253 docs\n",
    "- politics: 3,793 docs\n",
    "- sports: 4,710 docs\n",
    "- tech: 5,088 docs\n",
    "\n"
   ]
  }
 ],
 "metadata": {
  "kernelspec": {
   "display_name": "Python 3",
   "language": "python",
   "name": "python3"
  },
  "language_info": {
   "codemirror_mode": {
    "name": "ipython",
    "version": 3
   },
   "file_extension": ".py",
   "mimetype": "text/x-python",
   "name": "python",
   "nbconvert_exporter": "python",
   "pygments_lexer": "ipython3",
   "version": "3.5.2"
  }
 },
 "nbformat": 4,
 "nbformat_minor": 0
}
