{
 "cells": [
  {
   "cell_type": "markdown",
   "metadata": {},
   "source": [
    "# Classifiers and Class Labels\n",
    "\n",
    "This notebook explores how the classification score visualizers handle constraints when it comes to different types of models, data, class labeling schemes, and other parameters. In particular we explore the following:\n",
    "\n",
    "Target Types:\n",
    "\n",
    "- binary\n",
    "- multiclass (3 classes)\n",
    "\n",
    "Target Encoding:\n",
    "\n",
    "- integers\n",
    "- labels \n",
    "\n",
    "Labeling:\n",
    "\n",
    "- list of classes\n",
    "- LabelEncoder\n",
    "- dict encoding\n",
    "- list of more classes than values in y"
   ]
  },
  {
   "cell_type": "code",
   "execution_count": 1,
   "metadata": {},
   "outputs": [],
   "source": [
    "# Ensure we're importing the development version of Yellowbrick\n",
    "import sys\n",
    "sys.path.append(\"../..\")"
   ]
  },
  {
   "cell_type": "code",
   "execution_count": 2,
   "metadata": {},
   "outputs": [],
   "source": [
    "# Use inline so that we can run the notebook multiple times\n",
    "%matplotlib inline\n",
    "\n",
    "import matplotlib.pyplot as plt\n",
    "\n",
    "# Import all of the Yellowbrick classifiers\n",
    "from yellowbrick.classifier import *\n",
    "from yellowbrick.exceptions import YellowbrickError\n",
    "from yellowbrick.datasets import load_game, load_occupancy\n",
    "\n",
    "# Import scikit-learn utilities\n",
    "from sklearn.pipeline import Pipeline\n",
    "from sklearn.ensemble import RandomForestClassifier\n",
    "from sklearn.linear_model import LogisticRegression\n",
    "from sklearn.naive_bayes import MultinomialNB, GaussianNB\n",
    "from sklearn.model_selection import train_test_split as tts\n",
    "from sklearn.preprocessing import OneHotEncoder, LabelEncoder\n",
    "\n",
    "from collections import namedtuple\n",
    "\n",
    "Dataset = namedtuple(\"Dataset\", \"X,y,classes,encoder\")\n",
    "Split = namedtuple(\"Split\", \"train,test\")"
   ]
  },
  {
   "cell_type": "code",
   "execution_count": 3,
   "metadata": {},
   "outputs": [],
   "source": [
    "# Select the parameters to run against all models \n",
    "# Then restart kernel and run all\n",
    "MODEL = MultinomialNB()\n",
    "IS_FITTED = False\n",
    "DATASET = \"game\" \n",
    "TARGET = \"labels\"\n",
    "ENCODER = \"dict\"\n",
    "USE_PANDAS = False\n",
    "\n",
    "\n",
    "def make_dataset(name=DATASET, target=TARGET, encoder=ENCODER, use_pandas=USE_PANDAS):\n",
    "    loader = {\n",
    "        'game': load_game, \n",
    "        'occupancy': load_occupancy,\n",
    "    }.get(name)\n",
    "    \n",
    "    dataset = loader(return_dataset=True)\n",
    "    labels = sorted(dataset.meta['labels'].items(), key=lambda i: i[1])\n",
    "    \n",
    "    \n",
    "    if use_pandas:\n",
    "        X, y = dataset.to_pandas()\n",
    "    else:\n",
    "        X, y = dataset.to_numpy()\n",
    "        \n",
    "    if name == 'game':\n",
    "        X = OneHotEncoder().fit_transform(X)\n",
    "    \n",
    "    # game target is string encoded, occupancy is integer encoded\n",
    "    if target == \"integers\":\n",
    "        if y.dtype.kind != 'i':\n",
    "            y = LabelEncoder().fit_transform(y)\n",
    "    elif target == \"labels\":\n",
    "        if y.dtype.kind == 'i':\n",
    "            rv = {i[1]: i[0] for i in labels.items()}\n",
    "            y = np.array([rv[yi] for yi in y])\n",
    "    else:\n",
    "        raise ValueError(f\"unknown target type '{target}', use integers or labels\")\n",
    "    \n",
    "    c, le = None, None\n",
    "    X_train, X_test, y_train, y_test = tts(X, y, test_size=0.2, shuffle=True, stratify=y)\n",
    "    \n",
    "    if encoder == 'list':\n",
    "        c = [l[0] for l in labels]\n",
    "    elif encoder == 'labelencoder':\n",
    "        le = LabelEncoder().fit([l[0] for l in labels])\n",
    "    elif encoder == 'dict':\n",
    "        le = {l[1]: l[0] for l in labels}\n",
    "    elif encoder is None:\n",
    "        c, le = None, None\n",
    "    else:\n",
    "        raise ValueError(f\"unknown encoder type '{encoder}', see make_dataset for choices\")\n",
    "    \n",
    "    return Dataset(Split(X_train, X_test), Split(y_train, y_test), c, le)\n",
    "    \n",
    "\n",
    "def visualize(visualizer, model=MODEL, is_fitted=IS_FITTED, score=True):\n",
    "    if is_fitted:\n",
    "        # This includes both auto and True; fit the model manually if you want the exception raised\n",
    "        model = model.fit(dataset.X.train, dataset.y.train)\n",
    "    _, ax = plt.subplots(figsize=(9,6)) \n",
    "    \n",
    "    try:\n",
    "        oz = visualizer(model, ax=ax, classes=dataset.classes, encoder=dataset.encoder, is_fitted=is_fitted)\n",
    "        oz.fit(dataset.X.train, dataset.y.train)\n",
    "\n",
    "        if score:\n",
    "            oz.score(dataset.X.test, dataset.y.test)\n",
    "\n",
    "        oz.finalize()\n",
    "    except YellowbrickError as e:\n",
    "        print(e)\n",
    "#     except Exception as e:\n",
    "#         print(\"A NON YB ERROR OCCURRED:\")\n",
    "#         print(e)\n",
    "    return oz\n",
    "    \n",
    "    \n",
    "                         \n",
    "dataset = make_dataset()"
   ]
  },
  {
   "cell_type": "code",
   "execution_count": 4,
   "metadata": {},
   "outputs": [
    {
     "name": "stdout",
     "output_type": "stream",
     "text": [
      "cannot encode class ''draw'' to label\n"
     ]
    },
    {
     "data": {
      "text/plain": [
       "ClassPredictionError(ax=<matplotlib.axes._subplots.AxesSubplot object at 0x12d0765c0>,\n",
       "                     classes=None, encoder={0: 'win', 1: 'loss', 2: 'draw'},\n",
       "                     force_model=False, is_fitted=False, model=None)"
      ]
     },
     "execution_count": 4,
     "metadata": {},
     "output_type": "execute_result"
    },
    {
     "data": {
      "image/png": "[encoded data removed]",
      "text/plain": [
       "<Figure size 648x432 with 1 Axes>"
      ]
     },
     "metadata": {
      "needs_background": "light"
     },
     "output_type": "display_data"
    }
   ],
   "source": [
    "visualize(ClassPredictionError)"
   ]
  },
  {
   "cell_type": "code",
   "execution_count": null,
   "metadata": {},
   "outputs": [],
   "source": [
    "visualize(ClassificationReport)"
   ]
  },
  {
   "cell_type": "code",
   "execution_count": null,
   "metadata": {},
   "outputs": [],
   "source": [
    "visualize(ConfusionMatrix)"
   ]
  },
  {
   "cell_type": "code",
   "execution_count": null,
   "metadata": {},
   "outputs": [],
   "source": [
    "visualize(PRCurve)"
   ]
  },
  {
   "cell_type": "code",
   "execution_count": null,
   "metadata": {},
   "outputs": [],
   "source": [
    "visualize(ROCAUC)"
   ]
  },
  {
   "cell_type": "code",
   "execution_count": null,
   "metadata": {},
   "outputs": [],
   "source": [
    "visualize(DiscriminationThreshold, score=False)"
   ]
  },
  {
   "cell_type": "code",
   "execution_count": null,
   "metadata": {},
   "outputs": [],
   "source": [
    "dataset.encoder"
   ]
  }
 ],
 "metadata": {
  "kernelspec": {
   "display_name": "Python 3",
   "language": "python",
   "name": "python3"
  },
  "language_info": {
   "codemirror_mode": {
    "name": "ipython",
    "version": 3
   },
   "file_extension": ".py",
   "mimetype": "text/x-python",
   "name": "python",
   "nbconvert_exporter": "python",
   "pygments_lexer": "ipython3",
   "version": "3.7.3"
  }
 },
 "nbformat": 4,
 "nbformat_minor": 2
}
