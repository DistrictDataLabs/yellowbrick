{
 "cells": [
  {
   "cell_type": "code",
   "execution_count": 1,
   "metadata": {
    "collapsed": true
   },
   "outputs": [],
   "source": [
    "import sys\n",
    "sys.path.append(\"./../..\")"
   ]
  },
  {
   "cell_type": "code",
   "execution_count": 2,
   "metadata": {
    "collapsed": true
   },
   "outputs": [],
   "source": [
    "# example adapted from: http://scikit-learn.org/stable/auto_examples/neural_networks/plot_mlp_alpha.html#sphx-glr-auto-examples-neural-networks-plot-mlp-alpha-py\n",
    "%reload_ext yellowbrick\n",
    "from yellowbrick.classifier import DecisionViz"
   ]
  },
  {
   "cell_type": "code",
   "execution_count": 3,
   "metadata": {
    "collapsed": true
   },
   "outputs": [],
   "source": [
    "%matplotlib inline\n",
    "import numpy as np\n",
    "\n",
    "from sklearn.model_selection import train_test_split\n",
    "from sklearn.preprocessing import StandardScaler\n",
    "from sklearn.datasets import make_moons, make_circles, make_classification\n",
    "from sklearn.neural_network import MLPClassifier\n",
    "from sklearn.neighbors import KNeighborsClassifier\n",
    "from sklearn.svm import SVC\n",
    "from sklearn.gaussian_process import GaussianProcessClassifier\n",
    "from sklearn.gaussian_process.kernels import RBF\n",
    "from sklearn.tree import DecisionTreeClassifier\n",
    "from sklearn.ensemble import RandomForestClassifier, AdaBoostClassifier\n",
    "from sklearn.naive_bayes import GaussianNB\n",
    "from sklearn.discriminant_analysis import QuadraticDiscriminantAnalysis\n",
    "\n",
    "names = [\"Nearest Neighbors\", \"Linear SVM\", \"RBF SVM\", \"Gaussian Process\",\n",
    "         \"Decision Tree\", \"Random Forest\", \"Neural Net\", \"AdaBoost\",\n",
    "         \"Naive Bayes\", \"QDA\"]\n",
    "\n",
    "classifiers = [\n",
    "    KNeighborsClassifier(3),\n",
    "    SVC(kernel=\"linear\", C=0.025),\n",
    "    SVC(gamma=2, C=1),\n",
    "    GaussianProcessClassifier(1.0 * RBF(1.0), warm_start=True),\n",
    "    DecisionTreeClassifier(max_depth=5),\n",
    "    RandomForestClassifier(max_depth=5, n_estimators=10, max_features=1),\n",
    "    MLPClassifier(alpha=1),\n",
    "    AdaBoostClassifier(),\n",
    "    GaussianNB(),\n",
    "    QuadraticDiscriminantAnalysis()]\n",
    "\n",
    "X, y = make_classification(n_features=2, n_redundant=0, n_informative=2,\n",
    "                           random_state=1, n_clusters_per_class=1)\n",
    "rng = np.random.RandomState(2)\n",
    "X += 2 * rng.uniform(size=X.shape)\n",
    "linearly_separable = (X, y)\n",
    "\n",
    "data_set = make_moons(noise=0.3, random_state=0)\n",
    "\n",
    "X, y = data_set\n",
    "X = StandardScaler().fit_transform(X)\n",
    "X_train, X_test, y_train, y_test = train_test_split(X, y, test_size=.4, random_state=42)"
   ]
  },
  {
   "cell_type": "code",
   "execution_count": 4,
   "metadata": {},
   "outputs": [
    {
     "data": {
      "image/png": "[encoded data removed]",
      "text/plain": [
       "<matplotlib.figure.Figure at 0x103200278>"
      ]
     },
     "metadata": {},
     "output_type": "display_data"
    }
   ],
   "source": [
    "model = classifiers[0]\n",
    "title = names[0]\n",
    "    \n",
    "viz = DecisionViz(model, title=title, features=['Feature One', 'Feature Two'], classes=['Class A', 'Class B'])\n",
    "viz.fit(X_train, y_train)\n",
    "viz.draw(X_test, y_test)\n",
    "viz.poof()"
   ]
  },
  {
   "cell_type": "code",
   "execution_count": null,
   "metadata": {},
   "outputs": [
    {
     "data": {
      "image/png": "[encoded data removed]",
      "text/plain": [
       "<matplotlib.figure.Figure at 0x108cd70f0>"
      ]
     },
     "metadata": {},
     "output_type": "display_data"
    }
   ],
   "source": [
    "model = classifiers[1]\n",
    "title = names[1]\n",
    "    \n",
    "viz = DecisionViz(model, title=title, features=['Feature One', 'Feature Two'], classes=['Class A', 'Class B'])\n",
    "viz.fit(X_train, y_train)\n",
    "viz.draw(X_test, y_test)\n",
    "viz.poof()"
   ]
  },
  {
   "cell_type": "code",
   "execution_count": null,
   "metadata": {},
   "outputs": [],
   "source": [
    "model = classifiers[2]\n",
    "title = names[2]\n",
    "    \n",
    "viz = DecisionViz(model, title=title, features=['Feature One', 'Feature Two'], classes=['Class A', 'Class B'])\n",
    "viz.fit(X_train, y_train)\n",
    "viz.draw(X_test, y_test)\n",
    "viz.poof()"
   ]
  },
  {
   "cell_type": "code",
   "execution_count": null,
   "metadata": {},
   "outputs": [],
   "source": [
    "model = classifiers[3]\n",
    "title = names[3]\n",
    "    \n",
    "viz = DecisionViz(model, title=title, features=['Feature One', 'Feature Two'], classes=['Class A', 'Class B'])\n",
    "viz.fit(X_train, y_train)\n",
    "viz.draw(X_test, y_test)\n",
    "viz.poof()"
   ]
  },
  {
   "cell_type": "code",
   "execution_count": null,
   "metadata": {},
   "outputs": [],
   "source": [
    "model = classifiers[4]\n",
    "title = names[4]\n",
    "    \n",
    "viz = DecisionViz(model, title=title, features=['Feature One', 'Feature Two'], classes=['Class A', 'Class B'])\n",
    "viz.fit(X_train, y_train)\n",
    "viz.draw(X_test, y_test)\n",
    "viz.poof()"
   ]
  },
  {
   "cell_type": "code",
   "execution_count": null,
   "metadata": {},
   "outputs": [],
   "source": [
    "model = classifiers[5]\n",
    "title = names[5]\n",
    "    \n",
    "viz = DecisionViz(model, title=title, features=['Feature Alpha', 'Feature Beta'], classes=['Class A', 'Class B'])\n",
    "viz.fit(X_train, y_train)\n",
    "viz.draw(X_test, y_test)\n",
    "viz.poof()"
   ]
  },
  {
   "cell_type": "code",
   "execution_count": null,
   "metadata": {},
   "outputs": [],
   "source": [
    "model = classifiers[6]\n",
    "title = names[6]\n",
    "    \n",
    "viz = DecisionViz(model, title=title, features=['Feature One', 'Feature Two'], classes=['Class A', 'Class B'])\n",
    "viz.fit(X_train, y_train)\n",
    "viz.draw(X_test, y_test)\n",
    "viz.poof()"
   ]
  },
  {
   "cell_type": "code",
   "execution_count": null,
   "metadata": {},
   "outputs": [],
   "source": [
    "model = classifiers[7]\n",
    "title = names[7]\n",
    "    \n",
    "viz = DecisionViz(model, title=title, features=['Feature One', 'Feature Two'], classes=['Class A', 'Class B'])\n",
    "viz.fit(X_train, y_train)\n",
    "viz.draw(X_test, y_test)\n",
    "viz.poof()"
   ]
  },
  {
   "cell_type": "code",
   "execution_count": null,
   "metadata": {},
   "outputs": [],
   "source": [
    "model = classifiers[8]\n",
    "title = names[8]\n",
    "    \n",
    "viz = DecisionViz(model, title=title, features=['Feature One', 'Feature Two'], classes=['Class A', 'Class B'])\n",
    "viz.fit(X_train, y_train)\n",
    "viz.draw(X_test, y_test)\n",
    "viz.poof()"
   ]
  },
  {
   "cell_type": "code",
   "execution_count": null,
   "metadata": {},
   "outputs": [],
   "source": [
    "model = classifiers[9]\n",
    "title = names[9]\n",
    "    \n",
    "viz = DecisionViz(model, title=title, features=['Feature One', 'Feature Two'], classes=['Class A', 'Class B'])\n",
    "viz.fit(X_train, y_train)\n",
    "viz.draw(X_test, y_test)\n",
    "viz.poof()"
   ]
  },
  {
   "cell_type": "code",
   "execution_count": null,
   "metadata": {
    "collapsed": true
   },
   "outputs": [],
   "source": []
  },
  {
   "cell_type": "code",
   "execution_count": null,
   "metadata": {
    "collapsed": true
   },
   "outputs": [],
   "source": []
  }
 ],
 "metadata": {
  "kernelspec": {
   "display_name": "Python 3",
   "language": "python",
   "name": "python3"
  },
  "language_info": {
   "codemirror_mode": {
    "name": "ipython",
    "version": 3
   },
   "file_extension": ".py",
   "mimetype": "text/x-python",
   "name": "python",
   "nbconvert_exporter": "python",
   "pygments_lexer": "ipython3",
   "version": "3.5.2"
  }
 },
 "nbformat": 4,
 "nbformat_minor": 2
}
