{
 "cells": [
  {
   "cell_type": "code",
   "execution_count": 1,
   "metadata": {
    "collapsed": true
   },
   "outputs": [],
   "source": [
    "import pandas as pd\n",
    "import numpy as np"
   ]
  },
  {
   "cell_type": "code",
   "execution_count": null,
   "metadata": {
    "collapsed": true
   },
   "outputs": [],
   "source": []
  },
  {
   "cell_type": "code",
   "execution_count": 69,
   "metadata": {},
   "outputs": [],
   "source": [
    "X = np.array([\n",
    "     (1.1, 9.52, 1.23, 0.86, 7.89, 0.13), \n",
    "     (3.4, 2.84, 8.65, 0.45, 7.43, 0.16),\n",
    "     (1.2, 3.22, 6.56, 0.24, 3.45, 0.17),\n",
    "     (3.8, 6.18, 2.45, 0.28, 2.53, 0.13),    \n",
    "     (5.1, 9.12, 1.06, 0.19, 1.43, 0.13),\n",
    "     (4.4, 8.84, 4.97, 0.98, 1.35, 0.13),\n",
    "     (3.2, 3.22, 5.03, 0.68, 3.53, 0.32),\n",
    "     (7.8, 2.18, 6.87, 0.35, 3.25, 0.38),  \n",
    "    ], dtype=[('a','<f8'), ('b','<f8'), ('c','<f8'), ('d','<f8'), ('e','<f8'), ('f','<f8')] \n",
    ")\n"
   ]
  },
  {
   "cell_type": "code",
   "execution_count": null,
   "metadata": {},
   "outputs": [],
   "source": []
  },
  {
   "cell_type": "code",
   "execution_count": 70,
   "metadata": {},
   "outputs": [],
   "source": [
    "X = np.array([\n",
    "     (1.1, 9.52, 1.23, 0.86, 7.89, 0.13),\n",
    "     (3.4, 2.84, 8.65, 0.45, 7.43, 0.16),\n",
    "     (1.2, 3.22, 6.56, 0.24, 3.45, 0.17),\n",
    "     (3.8, 6.18, 2.45, 0.28, 2.53, 0.13),\n",
    "     (5.1, 9.12, 1.06, 0.19, 1.43, 0.13),\n",
    "     (4.4, 8.84, 4.97, 0.98, 1.35, 0.13),\n",
    "     (3.2, 3.22, 5.03, 0.68, 3.53, 0.32),\n",
    "     (7.8, 2.18, 6.87, 0.35, 3.25, 0.38),\n",
    "    ], dtype=[('a','<f8'), ('b','<f8'), ('c','<f8'), ('d','<f8'), ('e','<f8'), ('f','<f8')]\n",
    ")\n",
    "\n",
    "y = np.array([1, 1, 0, 1, 0, 0])"
   ]
  },
  {
   "cell_type": "code",
   "execution_count": 75,
   "metadata": {},
   "outputs": [],
   "source": [
    "features = ['a', 'b']"
   ]
  },
  {
   "cell_type": "code",
   "execution_count": 76,
   "metadata": {},
   "outputs": [
    {
     "name": "stderr",
     "output_type": "stream",
     "text": [
      "/usr/local/var/pyenv/versions/3.5.2/envs/yb-dev/lib/python3.5/site-packages/ipykernel_launcher.py:2: FutureWarning: Numpy has detected that you may be viewing or writing to an array returned by selecting multiple fields in a structured array. \n",
      "\n",
      "This code may break in numpy 1.13 because this will return a view instead of a copy -- see release notes for details.\n",
      "  \n"
     ]
    }
   ],
   "source": [
    "X_selected = X[features]\n",
    "X_two_cols = X_selected.view(np.float64).reshape(len(X_selected), -1)"
   ]
  },
  {
   "cell_type": "code",
   "execution_count": 78,
   "metadata": {},
   "outputs": [
    {
     "data": {
      "text/plain": [
       "(8, 2)"
      ]
     },
     "execution_count": 78,
     "metadata": {},
     "output_type": "execute_result"
    }
   ],
   "source": [
    "X_two_cols.shape"
   ]
  },
  {
   "cell_type": "code",
   "execution_count": 80,
   "metadata": {},
   "outputs": [
    {
     "data": {
      "text/plain": [
       "(8, 6)"
      ]
     },
     "execution_count": 80,
     "metadata": {},
     "output_type": "execute_result"
    }
   ],
   "source": [
    "X.view(np.float64).reshape(len(X), -1).shape"
   ]
  },
  {
   "cell_type": "code",
   "execution_count": 83,
   "metadata": {},
   "outputs": [
    {
     "data": {
      "text/plain": [
       "1"
      ]
     },
     "execution_count": 83,
     "metadata": {},
     "output_type": "execute_result"
    }
   ],
   "source": [
    "len(X.shape)"
   ]
  },
  {
   "cell_type": "code",
   "execution_count": 86,
   "metadata": {},
   "outputs": [
    {
     "data": {
      "text/plain": [
       "('a', 'b', 'c', 'd', 'e', 'f')"
      ]
     },
     "execution_count": 86,
     "metadata": {},
     "output_type": "execute_result"
    }
   ],
   "source": [
    "X.dtype.names"
   ]
  },
  {
   "cell_type": "code",
   "execution_count": null,
   "metadata": {
    "collapsed": true
   },
   "outputs": [],
   "source": []
  }
 ],
 "metadata": {
  "kernelspec": {
   "display_name": "Python 3",
   "language": "python",
   "name": "python3"
  },
  "language_info": {
   "codemirror_mode": {
    "name": "ipython",
    "version": 3
   },
   "file_extension": ".py",
   "mimetype": "text/x-python",
   "name": "python",
   "nbconvert_exporter": "python",
   "pygments_lexer": "ipython3",
   "version": "3.5.2"
  }
 },
 "nbformat": 4,
 "nbformat_minor": 2
}
