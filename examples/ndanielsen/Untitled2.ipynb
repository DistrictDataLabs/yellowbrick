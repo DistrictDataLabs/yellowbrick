{
 "cells": [
  {
   "cell_type": "code",
   "execution_count": 2,
   "metadata": {},
   "outputs": [
    {
     "name": "stderr",
     "output_type": "stream",
     "text": [
      "/usr/local/var/pyenv/versions/3.5.2/envs/yb-dev/lib/python3.5/site-packages/sklearn/cross_validation.py:44: DeprecationWarning: This module was deprecated in version 0.18 in favor of the model_selection module into which all the refactored classes and functions are moved. Also note that the interface of the new CV iterators are different from that of this module. This module will be removed in 0.20.\n",
      "  \"This module will be removed in 0.20.\", DeprecationWarning)\n"
     ]
    }
   ],
   "source": [
    "import unittest\n",
    "import numpy as np\n",
    "\n",
    "\n",
    "from sklearn.datasets import make_blobs\n",
    "from sklearn.cluster import KMeans, MiniBatchKMeans\n",
    "from yellowbrick.cluster.elbow import distortion_score\n",
    "from yellowbrick.cluster.elbow import KElbowVisualizer\n",
    "from yellowbrick.exceptions import YellowbrickValueError"
   ]
  },
  {
   "cell_type": "code",
   "execution_count": 3,
   "metadata": {
    "collapsed": true
   },
   "outputs": [],
   "source": [
    "##########################################################################\n",
    "\n",
    "X = np.array(\n",
    "      [[-0.40020753, -4.67055317, -0.27191127, -1.49156318],\n",
    "       [ 0.37143349, -4.89391622, -1.23893945,  0.48318165],\n",
    "       [ 8.625142  , -1.2372284 ,  1.39301471,  4.3394457 ],\n",
    "       [ 7.65803596, -2.21017215,  1.99175714,  3.71004654],\n",
    "       [ 0.89319875, -5.37152317,  1.50313598,  1.95284886],\n",
    "       [ 2.68362166, -5.78810913, -0.41233406,  1.94638989],\n",
    "       [ 7.63541182, -1.99606076,  0.9241231 ,  4.53478238],\n",
    "       [ 9.04699415, -0.74540679,  0.98042851,  5.99569071],\n",
    "       [ 1.02552122, -5.73874278, -1.74804915, -0.07831216],\n",
    "       [ 7.18135665, -3.49473178,  1.14300963,  4.46065816],\n",
    "       [ 0.58812902, -4.66559815, -0.72831685,  1.40171779],\n",
    "       [ 1.48620862, -5.9963108 ,  0.19145963, -1.11369256],\n",
    "       [ 7.6625556 , -1.21328083,  2.06361094,  6.2643551 ],\n",
    "       [ 9.45050727, -1.36536078,  1.31154384,  3.89103468],\n",
    "       [ 6.88203724, -1.62040255,  3.89961049,  2.12865388],\n",
    "       [ 5.60842705, -2.10693356,  1.93328514,  3.90825432],\n",
    "       [ 2.35150936, -6.62836131, -1.84278374,  0.51540886],\n",
    "       [ 1.17446451, -5.62506058, -2.18420699,  1.21385128]]\n",
    ")\n",
    "\n",
    "y = np.array([0, 0, 1, 1, 0, 0, 1, 1, 0, 1, 0, 0, 1, 1, 1, 1, 0, 0])"
   ]
  },
  {
   "cell_type": "code",
   "execution_count": 16,
   "metadata": {},
   "outputs": [
    {
     "data": {
      "text/plain": [
       "KElbowVisualizer(ax=<matplotlib.axes._subplots.AxesSubplot object at 0x1141664a8>,\n",
       "         k=None, metric=None, model=None, timings=True)"
      ]
     },
     "execution_count": 16,
     "metadata": {},
     "output_type": "execute_result"
    }
   ],
   "source": [
    "visualizer = KElbowVisualizer(KMeans(random_state=0), k=5, timings=True)\n",
    "visualizer.fit(X)\n",
    "\n",
    "\n"
   ]
  },
  {
   "cell_type": "code",
   "execution_count": 18,
   "metadata": {},
   "outputs": [],
   "source": [
    "# delete the timings axes and\n",
    "# overwrite k_timers_, k_values_ for image similarity Tests\n",
    "visualizer.axes[1].remove()\n",
    "visualizer.k_timers_ = [0.01084589958190918, 0.011144161224365234, 0.017028093338012695, 0.010634183883666992]\n",
    "visualizer.k_values_ = [2, 3, 4, 5]\n",
    "\n",
    "# call draw again which is normally called in fit\n",
    "visualizer.draw()\n",
    "visualizer.poof()\n"
   ]
  },
  {
   "cell_type": "code",
   "execution_count": 19,
   "metadata": {},
   "outputs": [
    {
     "data": {
      "text/plain": [
       "[<matplotlib.axes._subplots.AxesSubplot at 0x1141664a8>,\n",
       " <matplotlib.axes._subplots.AxesSubplot at 0x114049518>]"
      ]
     },
     "execution_count": 19,
     "metadata": {},
     "output_type": "execute_result"
    }
   ],
   "source": [
    "visualizer.axes"
   ]
  },
  {
   "cell_type": "code",
   "execution_count": null,
   "metadata": {
    "collapsed": true
   },
   "outputs": [],
   "source": []
  }
 ],
 "metadata": {
  "kernelspec": {
   "display_name": "Python 3",
   "language": "python",
   "name": "python3"
  },
  "language_info": {
   "codemirror_mode": {
    "name": "ipython",
    "version": 3
   },
   "file_extension": ".py",
   "mimetype": "text/x-python",
   "name": "python",
   "nbconvert_exporter": "python",
   "pygments_lexer": "ipython3",
   "version": "3.5.2"
  }
 },
 "nbformat": 4,
 "nbformat_minor": 2
}
