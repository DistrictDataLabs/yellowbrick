{
 "cells": [
  {
   "cell_type": "code",
   "execution_count": 102,
   "metadata": {
    "collapsed": true,
    "scrolled": true
   },
   "outputs": [],
   "source": [
    "import sys\n",
    "sys.path.append(\"./../..\")"
   ]
  },
  {
   "cell_type": "code",
   "execution_count": 103,
   "metadata": {
    "collapsed": true,
    "scrolled": true
   },
   "outputs": [],
   "source": [
    "from collections import namedtuple\n",
    "%matplotlib inline\n",
    "import numpy as np\n",
    "from numpy.lib.recfunctions import append_fields\n",
    "import matplotlib.pyplot as plt\n",
    "from scipy import ndimage\n",
    "from sklearn.utils import as_float_array\n",
    "from yellowbrick.cluster.base import ClusteringScoreVisualizer\n",
    "from yellowbrick.exceptions import YellowbrickValueError\n",
    "from yellowbrick.style import resolve_colors, color_palette\n",
    "\n",
    "from yellowbrick.utils import is_dataframe, is_structured_array, has_ndarray_int_columns"
   ]
  },
  {
   "cell_type": "code",
   "execution_count": null,
   "metadata": {
    "collapsed": true,
    "scrolled": false
   },
   "outputs": [],
   "source": []
  },
  {
   "cell_type": "code",
   "execution_count": 104,
   "metadata": {
    "collapsed": true,
    "scrolled": true
   },
   "outputs": [],
   "source": [
    "%reload_ext yellowbrick\n",
    "# from yellowbrick.cluster.iterlabels import *\n",
    "from yellowbrick.cluster.base import ClusteringScoreVisualizer\n",
    "from yellowbrick.features import ScatterVisualizer"
   ]
  },
  {
   "cell_type": "code",
   "execution_count": 105,
   "metadata": {
    "collapsed": true,
    "scrolled": true
   },
   "outputs": [],
   "source": [
    "class IterLabelsVisualizer(ClusteringScoreVisualizer):\n",
    "    \"\"\"\n",
    "    TODO: Document this class!\n",
    "    \"\"\"\n",
    "\n",
    "    def __init__(self, model, ax=None, group_label=None, **kwargs):\n",
    "        super(IterLabelsVisualizer, self).__init__(model, ax=ax, **kwargs)\n",
    "\n",
    "        # Visual Properties\n",
    "        # TODO: Fix the color handling\n",
    "        self.colormap = kwargs.get('colormap', 'set1')\n",
    "        self.color = kwargs.get('color', None)\n",
    "        self.group_label_ = group_label if group_label else 'group_label'\n",
    "\n",
    "        # Required internal properties\n",
    "        self.X = None\n",
    "        self.y = None\n",
    "        self.label_slices = None\n",
    "        self.labels_ = None\n",
    "\n",
    "    def get_label_slices(self, label_array, **kargs):\n",
    "        \"\"\"\n",
    "        \"\"\"\n",
    "        # Grap the label class  column and sort it\n",
    "        # Determine the what label class ids and numberic ids should be attached\n",
    "        label_ids = np.unique(label_array)\n",
    "        time_labels = np.arange(label_ids.size)\n",
    "\n",
    "        # create an index to hold where labels should be applied and then apply them\n",
    "        label_map = {label: position+1 for position, label in enumerate(label_ids)}\n",
    "        array_labeled = [label_map[val] for val in label_array]\n",
    "\n",
    "        # Measure the time slices for each\n",
    "        self.label_slices = ndimage.find_objects(array_labeled)\n",
    "\n",
    "        return self.label_slices\n",
    "\n",
    "    def transform(self, X, y=None, label_col=None, label_value=None, label_array=None, **kargs):\n",
    "\n",
    "        if label_col is None:\n",
    "            raise Exception(\"The tranform method requires a label_col\")\n",
    "\n",
    "\n",
    "        if label_array is not None:\n",
    "            # if the label array is present then skip the other steps\n",
    "            pass\n",
    "\n",
    "        elif isinstance(X, np.ndarray) and isinstance(label_col, int):\n",
    "            label_array = X[:, label_col]\n",
    "\n",
    "        elif is_dataframe(X):\n",
    "            label_array = X[label_col].values\n",
    "            X = X.as_matrix()\n",
    "\n",
    "        # handle numpy named/ structured array\n",
    "        elif is_structured_array(X):\n",
    "            label_array = X[label_col]\n",
    "\n",
    "        else:\n",
    "            raise Exception(\"X is not a recognized data type\")\n",
    "\n",
    "        if label_value is not None:\n",
    "            if label_value not in np.unique(label_array):\n",
    "                raise Exception(\"label_value not found in the label_col\")\n",
    "\n",
    "            label_indices = np.where(label_array==label_value)\n",
    "            self.X = X[label_indices]\n",
    "            if y:\n",
    "                self.y = y[label_indices]\n",
    "\n",
    "        else:\n",
    "            label_indices = np.argsort(label_array)\n",
    "            self.X = X[label_indices]\n",
    "            if y:\n",
    "                self.y = y[label_indices]\n",
    "            self.get_label_slices(np.sort(label_array))\n",
    "\n",
    "\n",
    "    def fit(self, label_col=None, label_value=None, label_array=None, **kargs):\n",
    "        \n",
    "        # find the singular \n",
    "        if self.label_slices is None:\n",
    "            self.fit_model(self.X)\n",
    "        \n",
    "        pass\n",
    "            \n",
    "            "
   ]
  },
  {
   "cell_type": "code",
   "execution_count": 106,
   "metadata": {
    "collapsed": true,
    "scrolled": true
   },
   "outputs": [],
   "source": [
    "import pandas as pd\n",
    "from sklearn.datasets import make_blobs\n",
    "from sklearn.cluster import KMeans, MiniBatchKMeans"
   ]
  },
  {
   "cell_type": "code",
   "execution_count": 107,
   "metadata": {
    "collapsed": true,
    "scrolled": true
   },
   "outputs": [],
   "source": [
    "X, y = make_blobs(\n",
    "    n_samples=10000, n_features=2, centers=6, shuffle=True, random_state=0\n",
    ")"
   ]
  },
  {
   "cell_type": "code",
   "execution_count": 108,
   "metadata": {
    "collapsed": true
   },
   "outputs": [],
   "source": [
    "df = pd.DataFrame(X, columns=['one', 'two'])\n",
    "df['three'] = y\n",
    "df.head(3)\n",
    "df_matrix = df.to_records()"
   ]
  },
  {
   "cell_type": "code",
   "execution_count": 109,
   "metadata": {},
   "outputs": [
    {
     "data": {
      "text/plain": [
       "array([ 0.00818796,  1.98843837, -0.79226837, ..., -0.06612192,\n",
       "       -0.21932935,  3.43147023])"
      ]
     },
     "execution_count": 109,
     "metadata": {},
     "output_type": "execute_result"
    }
   ],
   "source": [
    "df_matrix['one']"
   ]
  },
  {
   "cell_type": "code",
   "execution_count": 110,
   "metadata": {
    "collapsed": true
   },
   "outputs": [],
   "source": [
    "label_column = X_[:,2]"
   ]
  },
  {
   "cell_type": "code",
   "execution_count": 111,
   "metadata": {
    "collapsed": true
   },
   "outputs": [],
   "source": [
    "label_column=   np.where(label_column==2)"
   ]
  },
  {
   "cell_type": "code",
   "execution_count": 112,
   "metadata": {},
   "outputs": [
    {
     "data": {
      "text/plain": [
       "1667"
      ]
     },
     "execution_count": 112,
     "metadata": {},
     "output_type": "execute_result"
    }
   ],
   "source": [
    "label_column\n",
    "\n",
    "len(X[label_column])"
   ]
  },
  {
   "cell_type": "code",
   "execution_count": null,
   "metadata": {
    "collapsed": true,
    "scrolled": true
   },
   "outputs": [],
   "source": [
    "\n"
   ]
  },
  {
   "cell_type": "code",
   "execution_count": 113,
   "metadata": {
    "collapsed": true,
    "scrolled": true
   },
   "outputs": [],
   "source": [
    "visualizer = IterLabelsVisualizer(KMeans(n_clusters=6))\n",
    "visualizer.transform(df_matrix, label_col='three', label_value=4)"
   ]
  },
  {
   "cell_type": "code",
   "execution_count": 114,
   "metadata": {},
   "outputs": [
    {
     "data": {
      "text/plain": [
       "1666"
      ]
     },
     "execution_count": 114,
     "metadata": {},
     "output_type": "execute_result"
    }
   ],
   "source": [
    "len(visualizer.X)"
   ]
  },
  {
   "cell_type": "code",
   "execution_count": 116,
   "metadata": {
    "scrolled": false
   },
   "outputs": [
    {
     "ename": "TypeError",
     "evalue": "'NoneType' object is not subscriptable",
     "output_type": "error",
     "traceback": [
      "\u001b[0;31m---------------------------------------------------------------------------\u001b[0m",
      "\u001b[0;31mTypeError\u001b[0m                                 Traceback (most recent call last)",
      "\u001b[0;32m<ipython-input-116-3d487d00cf3d>\u001b[0m in \u001b[0;36m<module>\u001b[0;34m()\u001b[0m\n\u001b[1;32m      1\u001b[0m \u001b[0mlabels_unique\u001b[0m \u001b[0;34m=\u001b[0m \u001b[0mnp\u001b[0m\u001b[0;34m.\u001b[0m\u001b[0munique\u001b[0m\u001b[0;34m(\u001b[0m\u001b[0mvisualizer\u001b[0m\u001b[0;34m.\u001b[0m\u001b[0mlabels_\u001b[0m\u001b[0;34m)\u001b[0m\u001b[0;34m\u001b[0m\u001b[0m\n\u001b[1;32m      2\u001b[0m \u001b[0;34m\u001b[0m\u001b[0m\n\u001b[0;32m----> 3\u001b[0;31m \u001b[0;32mfor\u001b[0m \u001b[0mslice_name\u001b[0m\u001b[0;34m,\u001b[0m \u001b[0mtime_slice\u001b[0m \u001b[0;32min\u001b[0m \u001b[0menumerate\u001b[0m\u001b[0;34m(\u001b[0m\u001b[0;34m[\u001b[0m\u001b[0mvisualizer\u001b[0m\u001b[0;34m.\u001b[0m\u001b[0mlabel_slices\u001b[0m\u001b[0;34m[\u001b[0m\u001b[0mn\u001b[0m\u001b[0;34m]\u001b[0m \u001b[0;32mfor\u001b[0m \u001b[0mn\u001b[0m \u001b[0;32min\u001b[0m \u001b[0;34m[\u001b[0m\u001b[0;36m0\u001b[0m\u001b[0;34m,\u001b[0m\u001b[0;36m1\u001b[0m\u001b[0;34m,\u001b[0m\u001b[0;36m2\u001b[0m\u001b[0;34m,\u001b[0m\u001b[0;36m4\u001b[0m\u001b[0;34m,\u001b[0m\u001b[0;36m5\u001b[0m\u001b[0;34m,\u001b[0m\u001b[0;36m6\u001b[0m\u001b[0;34m,\u001b[0m\u001b[0;36m7\u001b[0m\u001b[0;34m]\u001b[0m\u001b[0;34m]\u001b[0m\u001b[0;34m)\u001b[0m\u001b[0;34m:\u001b[0m\u001b[0;34m\u001b[0m\u001b[0m\n\u001b[0m\u001b[1;32m      4\u001b[0m     \u001b[0mslice_name\u001b[0m \u001b[0;34m=\u001b[0m \u001b[0mstr\u001b[0m\u001b[0;34m(\u001b[0m\u001b[0mslice_name\u001b[0m\u001b[0;34m)\u001b[0m\u001b[0;34m\u001b[0m\u001b[0m\n\u001b[1;32m      5\u001b[0m     \u001b[0mx_slice\u001b[0m \u001b[0;34m=\u001b[0m \u001b[0mvisualizer\u001b[0m\u001b[0;34m.\u001b[0m\u001b[0mX\u001b[0m\u001b[0;34m[\u001b[0m\u001b[0mtime_slice\u001b[0m\u001b[0;34m]\u001b[0m\u001b[0;34m\u001b[0m\u001b[0m\n",
      "\u001b[0;32m<ipython-input-116-3d487d00cf3d>\u001b[0m in \u001b[0;36m<listcomp>\u001b[0;34m(.0)\u001b[0m\n\u001b[1;32m      1\u001b[0m \u001b[0mlabels_unique\u001b[0m \u001b[0;34m=\u001b[0m \u001b[0mnp\u001b[0m\u001b[0;34m.\u001b[0m\u001b[0munique\u001b[0m\u001b[0;34m(\u001b[0m\u001b[0mvisualizer\u001b[0m\u001b[0;34m.\u001b[0m\u001b[0mlabels_\u001b[0m\u001b[0;34m)\u001b[0m\u001b[0;34m\u001b[0m\u001b[0m\n\u001b[1;32m      2\u001b[0m \u001b[0;34m\u001b[0m\u001b[0m\n\u001b[0;32m----> 3\u001b[0;31m \u001b[0;32mfor\u001b[0m \u001b[0mslice_name\u001b[0m\u001b[0;34m,\u001b[0m \u001b[0mtime_slice\u001b[0m \u001b[0;32min\u001b[0m \u001b[0menumerate\u001b[0m\u001b[0;34m(\u001b[0m\u001b[0;34m[\u001b[0m\u001b[0mvisualizer\u001b[0m\u001b[0;34m.\u001b[0m\u001b[0mlabel_slices\u001b[0m\u001b[0;34m[\u001b[0m\u001b[0mn\u001b[0m\u001b[0;34m]\u001b[0m \u001b[0;32mfor\u001b[0m \u001b[0mn\u001b[0m \u001b[0;32min\u001b[0m \u001b[0;34m[\u001b[0m\u001b[0;36m0\u001b[0m\u001b[0;34m,\u001b[0m\u001b[0;36m1\u001b[0m\u001b[0;34m,\u001b[0m\u001b[0;36m2\u001b[0m\u001b[0;34m,\u001b[0m\u001b[0;36m4\u001b[0m\u001b[0;34m,\u001b[0m\u001b[0;36m5\u001b[0m\u001b[0;34m,\u001b[0m\u001b[0;36m6\u001b[0m\u001b[0;34m,\u001b[0m\u001b[0;36m7\u001b[0m\u001b[0;34m]\u001b[0m\u001b[0;34m]\u001b[0m\u001b[0;34m)\u001b[0m\u001b[0;34m:\u001b[0m\u001b[0;34m\u001b[0m\u001b[0m\n\u001b[0m\u001b[1;32m      4\u001b[0m     \u001b[0mslice_name\u001b[0m \u001b[0;34m=\u001b[0m \u001b[0mstr\u001b[0m\u001b[0;34m(\u001b[0m\u001b[0mslice_name\u001b[0m\u001b[0;34m)\u001b[0m\u001b[0;34m\u001b[0m\u001b[0m\n\u001b[1;32m      5\u001b[0m     \u001b[0mx_slice\u001b[0m \u001b[0;34m=\u001b[0m \u001b[0mvisualizer\u001b[0m\u001b[0;34m.\u001b[0m\u001b[0mX\u001b[0m\u001b[0;34m[\u001b[0m\u001b[0mtime_slice\u001b[0m\u001b[0;34m]\u001b[0m\u001b[0;34m\u001b[0m\u001b[0m\n",
      "\u001b[0;31mTypeError\u001b[0m: 'NoneType' object is not subscriptable"
     ]
    }
   ],
   "source": [
    "labels_unique = np.unique(visualizer.labels_)\n",
    "\n",
    "for slice_name, time_slice in enumerate([visualizer.label_slices[n] for n in [0,1,2,4,5,6,7]]):\n",
    "    slice_name = str(slice_name)\n",
    "    x_slice = visualizer.X[time_slice]\n",
    "    labels_slice = visualizer.labels_[time_slice]\n",
    "\n",
    "    fig, ax = plt.subplots()\n",
    "    \n",
    "    for label in labels_unique:\n",
    "        points_indices = np.where(label==labels_slice)\n",
    "        point_values = x_slice[points_indices]\n",
    "        ax.plot(point_values[:,0], point_values[:,1], marker='o', linestyle='', ms=5, label=label)\n",
    " \n",
    "    ax.set_aspect('equal', 'datalim')\n",
    "    ax.legend()\n",
    "    plt.grid(True)\n",
    "    plt.title(\"Class {label}\".format(label=slice_name[0]))\n",
    "    plt.show()\n"
   ]
  },
  {
   "cell_type": "code",
   "execution_count": null,
   "metadata": {
    "collapsed": true,
    "scrolled": true
   },
   "outputs": [],
   "source": []
  },
  {
   "cell_type": "code",
   "execution_count": null,
   "metadata": {
    "collapsed": true,
    "scrolled": true
   },
   "outputs": [],
   "source": []
  },
  {
   "cell_type": "code",
   "execution_count": null,
   "metadata": {
    "collapsed": true,
    "scrolled": true
   },
   "outputs": [],
   "source": []
  },
  {
   "cell_type": "code",
   "execution_count": null,
   "metadata": {
    "collapsed": true,
    "scrolled": true
   },
   "outputs": [],
   "source": []
  }
 ],
 "metadata": {
  "kernelspec": {
   "display_name": "Python 3",
   "language": "python",
   "name": "python3"
  },
  "language_info": {
   "codemirror_mode": {
    "name": "ipython",
    "version": 3
   },
   "file_extension": ".py",
   "mimetype": "text/x-python",
   "name": "python",
   "nbconvert_exporter": "python",
   "pygments_lexer": "ipython3",
   "version": "3.5.2"
  }
 },
 "nbformat": 4,
 "nbformat_minor": 2
}
