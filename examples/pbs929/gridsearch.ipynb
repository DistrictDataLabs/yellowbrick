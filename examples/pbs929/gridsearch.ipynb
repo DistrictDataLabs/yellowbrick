{
 "cells": [
  {
   "cell_type": "code",
   "execution_count": 1,
   "metadata": {
    "collapsed": true
   },
   "outputs": [],
   "source": [
    "%matplotlib inline\n",
    "%load_ext autoreload\n",
    "%autoreload 2"
   ]
  },
  {
   "cell_type": "code",
   "execution_count": 2,
   "metadata": {
    "collapsed": true
   },
   "outputs": [],
   "source": [
    "import os\n",
    "import sys\n",
    "\n",
    "sys.path.append(\"..\")\n",
    "sys.path.append(\"../..\")\n",
    "\n",
    "import numpy as np \n",
    "import pandas as pd"
   ]
  },
  {
   "cell_type": "markdown",
   "metadata": {},
   "source": [
    "### Occupancy data"
   ]
  },
  {
   "cell_type": "code",
   "execution_count": 3,
   "metadata": {
    "collapsed": true
   },
   "outputs": [],
   "source": [
    "## [from examples/examples.py]\n",
    "from download import download_all \n",
    "\n",
    "## The path to the test data sets\n",
    "FIXTURES  = os.path.join(os.getcwd(), \"data\")\n",
    "\n",
    "## Dataset loading mechanisms\n",
    "datasets = {\n",
    "    \"credit\": os.path.join(FIXTURES, \"credit\", \"credit.csv\"),\n",
    "    \"concrete\": os.path.join(FIXTURES, \"concrete\", \"concrete.csv\"),\n",
    "    \"occupancy\": os.path.join(FIXTURES, \"occupancy\", \"occupancy.csv\"),\n",
    "    \"mushroom\": os.path.join(FIXTURES, \"mushroom\", \"mushroom.csv\"),\n",
    "}\n",
    "\n",
    "def load_data(name, download=True):\n",
    "    \"\"\"\n",
    "    Loads and wrangles the passed in dataset by name.\n",
    "    If download is specified, this method will download any missing files. \n",
    "    \"\"\"\n",
    "    # Get the path from the datasets \n",
    "    path = datasets[name]\n",
    "    \n",
    "    # Check if the data exists, otherwise download or raise \n",
    "    if not os.path.exists(path):\n",
    "        if download:\n",
    "            download_all() \n",
    "        else:\n",
    "            raise ValueError((\n",
    "                \"'{}' dataset has not been downloaded, \"\n",
    "                \"use the download.py module to fetch datasets\"\n",
    "            ).format(name))\n",
    "    \n",
    "    # Return the data frame\n",
    "    return pd.read_csv(path)"
   ]
  },
  {
   "cell_type": "code",
   "execution_count": 4,
   "metadata": {},
   "outputs": [
    {
     "name": "stdout",
     "output_type": "stream",
     "text": [
      "20560\n"
     ]
    },
    {
     "data": {
      "text/html": [
       "<div>\n",
       "<style>\n",
       "    .dataframe thead tr:only-child th {\n",
       "        text-align: right;\n",
       "    }\n",
       "\n",
       "    .dataframe thead th {\n",
       "        text-align: left;\n",
       "    }\n",
       "\n",
       "    .dataframe tbody tr th {\n",
       "        vertical-align: top;\n",
       "    }\n",
       "</style>\n",
       "<table border=\"1\" class=\"dataframe\">\n",
       "  <thead>\n",
       "    <tr style=\"text-align: right;\">\n",
       "      <th></th>\n",
       "      <th>datetime</th>\n",
       "      <th>temperature</th>\n",
       "      <th>relative humidity</th>\n",
       "      <th>light</th>\n",
       "      <th>C02</th>\n",
       "      <th>humidity</th>\n",
       "      <th>occupancy</th>\n",
       "    </tr>\n",
       "  </thead>\n",
       "  <tbody>\n",
       "    <tr>\n",
       "      <th>0</th>\n",
       "      <td>2015-02-04 17:51:00</td>\n",
       "      <td>23.18</td>\n",
       "      <td>27.2720</td>\n",
       "      <td>426.0</td>\n",
       "      <td>721.25</td>\n",
       "      <td>0.004793</td>\n",
       "      <td>1</td>\n",
       "    </tr>\n",
       "    <tr>\n",
       "      <th>1</th>\n",
       "      <td>2015-02-04 17:51:59</td>\n",
       "      <td>23.15</td>\n",
       "      <td>27.2675</td>\n",
       "      <td>429.5</td>\n",
       "      <td>714.00</td>\n",
       "      <td>0.004783</td>\n",
       "      <td>1</td>\n",
       "    </tr>\n",
       "    <tr>\n",
       "      <th>2</th>\n",
       "      <td>2015-02-04 17:53:00</td>\n",
       "      <td>23.15</td>\n",
       "      <td>27.2450</td>\n",
       "      <td>426.0</td>\n",
       "      <td>713.50</td>\n",
       "      <td>0.004779</td>\n",
       "      <td>1</td>\n",
       "    </tr>\n",
       "    <tr>\n",
       "      <th>3</th>\n",
       "      <td>2015-02-04 17:54:00</td>\n",
       "      <td>23.15</td>\n",
       "      <td>27.2000</td>\n",
       "      <td>426.0</td>\n",
       "      <td>708.25</td>\n",
       "      <td>0.004772</td>\n",
       "      <td>1</td>\n",
       "    </tr>\n",
       "    <tr>\n",
       "      <th>4</th>\n",
       "      <td>2015-02-04 17:55:00</td>\n",
       "      <td>23.10</td>\n",
       "      <td>27.2000</td>\n",
       "      <td>426.0</td>\n",
       "      <td>704.50</td>\n",
       "      <td>0.004757</td>\n",
       "      <td>1</td>\n",
       "    </tr>\n",
       "  </tbody>\n",
       "</table>\n",
       "</div>"
      ],
      "text/plain": [
       "              datetime  temperature  relative humidity  light     C02  \\\n",
       "0  2015-02-04 17:51:00        23.18            27.2720  426.0  721.25   \n",
       "1  2015-02-04 17:51:59        23.15            27.2675  429.5  714.00   \n",
       "2  2015-02-04 17:53:00        23.15            27.2450  426.0  713.50   \n",
       "3  2015-02-04 17:54:00        23.15            27.2000  426.0  708.25   \n",
       "4  2015-02-04 17:55:00        23.10            27.2000  426.0  704.50   \n",
       "\n",
       "   humidity  occupancy  \n",
       "0  0.004793          1  \n",
       "1  0.004783          1  \n",
       "2  0.004779          1  \n",
       "3  0.004772          1  \n",
       "4  0.004757          1  "
      ]
     },
     "execution_count": 4,
     "metadata": {},
     "output_type": "execute_result"
    }
   ],
   "source": [
    "# Load the classification data set\n",
    "data = load_data('occupancy') \n",
    "print(len(data))\n",
    "data.head()"
   ]
  },
  {
   "cell_type": "code",
   "execution_count": 5,
   "metadata": {
    "collapsed": true
   },
   "outputs": [],
   "source": [
    "# Specify the features of interest and the classes of the target \n",
    "features = [\"temperature\", \"relative humidity\", \"light\", \"C02\", \"humidity\"]\n",
    "classes = ['unoccupied', 'occupied']\n",
    "\n",
    "# Searching the whole dataset takes a while (15 mins on my mac)... \n",
    "# For demo purposes, we reduce the size\n",
    "X = data[features].head(2000)\n",
    "y = data.occupancy.head(2000)"
   ]
  },
  {
   "cell_type": "markdown",
   "metadata": {},
   "source": [
    "### Parameter projection\n",
    "\n",
    "* Because the visualizer only displays results across two parameters, we need some way of reducing the dimension to 2. \n",
    "* Our approach: for each value of the parameters of interest, display the _maximum_ score across all the other parameters.\n",
    "\n",
    "Here we demo the `param_projection` utility function that does this"
   ]
  },
  {
   "cell_type": "code",
   "execution_count": 6,
   "metadata": {
    "collapsed": true
   },
   "outputs": [],
   "source": [
    "from sklearn.model_selection import GridSearchCV\n",
    "from sklearn.svm import SVC\n",
    "\n",
    "from yellowbrick.gridsearch.pcolor import param_projection"
   ]
  },
  {
   "cell_type": "code",
   "execution_count": 7,
   "metadata": {},
   "outputs": [],
   "source": [
    "# Fit a vanilla grid search... these are the example parameters from sklearn's gridsearch docs.\n",
    "svc = SVC()\n",
    "grid = [{'kernel': ['rbf'], 'gamma': [1e-3, 1e-4], 'C': [1, 10, 100, 1000]},\n",
    "        {'kernel': ['linear'], 'C': [1, 10, 100, 1000]}]\n",
    "gs = GridSearchCV(svc, grid, n_jobs=4)"
   ]
  },
  {
   "cell_type": "code",
   "execution_count": 8,
   "metadata": {},
   "outputs": [
    {
     "name": "stdout",
     "output_type": "stream",
     "text": [
      "CPU times: user 161 ms, sys: 32.8 ms, total: 194 ms\n",
      "Wall time: 26.7 s\n"
     ]
    },
    {
     "data": {
      "text/plain": [
       "GridSearchCV(cv=None, error_score='raise',\n",
       "       estimator=SVC(C=1.0, cache_size=200, class_weight=None, coef0=0.0,\n",
       "  decision_function_shape=None, degree=3, gamma='auto', kernel='rbf',\n",
       "  max_iter=-1, probability=False, random_state=None, shrinking=True,\n",
       "  tol=0.001, verbose=False),\n",
       "       fit_params={}, iid=True, n_jobs=4,\n",
       "       param_grid=[{'kernel': ['rbf'], 'gamma': [0.001, 0.0001], 'C': [1, 10, 100, 1000]}, {'kernel': ['linear'], 'C': [1, 10, 100, 1000]}],\n",
       "       pre_dispatch='2*n_jobs', refit=True, return_train_score=True,\n",
       "       scoring=None, verbose=0)"
      ]
     },
     "execution_count": 8,
     "metadata": {},
     "output_type": "execute_result"
    }
   ],
   "source": [
    "%%time\n",
    "gs.fit(X, y)"
   ]
  },
  {
   "cell_type": "markdown",
   "metadata": {},
   "source": [
    "As of Scikit-learn 0.18, `cv_results` has replaced `grid_scores` as the grid search results format"
   ]
  },
  {
   "cell_type": "code",
   "execution_count": 9,
   "metadata": {
    "scrolled": true
   },
   "outputs": [
    {
     "data": {
      "text/plain": [
       "{'mean_fit_time': array([ 0.04295595,  0.01865077,  0.03204568,  0.02037819,  0.03543862,\n",
       "         0.02040172,  0.0679934 ,  0.03595225,  3.20443257,  5.49516567,\n",
       "         6.48997776,  5.03442399]),\n",
       " 'mean_score_time': array([ 0.01059532,  0.00367069,  0.00424226,  0.0035754 ,  0.00382344,\n",
       "         0.00281342,  0.00379332,  0.00283845,  0.00176803,  0.00164096,\n",
       "         0.00171892,  0.00116118]),\n",
       " 'mean_test_score': array([ 0.895 ,  0.891 ,  0.9055,  0.8995,  0.8995,  0.914 ,  0.9045,\n",
       "         0.9185,  0.915 ,  0.9135,  0.9105,  0.9115]),\n",
       " 'mean_train_score': array([ 0.9847535 ,  0.97950518,  0.990002  ,  0.98125506,  0.99450106,\n",
       "         0.98475368,  0.99625056,  0.99275119,  0.96525668,  0.96550693,\n",
       "         0.96525687,  0.96500699]),\n",
       " 'param_C': masked_array(data = [1 1 10 10 100 100 1000 1000 1 10 100 1000],\n",
       "              mask = [False False False False False False False False False False False False],\n",
       "        fill_value = ?),\n",
       " 'param_gamma': masked_array(data = [0.001 0.0001 0.001 0.0001 0.001 0.0001 0.001 0.0001 -- -- -- --],\n",
       "              mask = [False False False False False False False False  True  True  True  True],\n",
       "        fill_value = ?),\n",
       " 'param_kernel': masked_array(data = ['rbf' 'rbf' 'rbf' 'rbf' 'rbf' 'rbf' 'rbf' 'rbf' 'linear' 'linear' 'linear'\n",
       "  'linear'],\n",
       "              mask = [False False False False False False False False False False False False],\n",
       "        fill_value = ?),\n",
       " 'params': ({'C': 1, 'gamma': 0.001, 'kernel': 'rbf'},\n",
       "  {'C': 1, 'gamma': 0.0001, 'kernel': 'rbf'},\n",
       "  {'C': 10, 'gamma': 0.001, 'kernel': 'rbf'},\n",
       "  {'C': 10, 'gamma': 0.0001, 'kernel': 'rbf'},\n",
       "  {'C': 100, 'gamma': 0.001, 'kernel': 'rbf'},\n",
       "  {'C': 100, 'gamma': 0.0001, 'kernel': 'rbf'},\n",
       "  {'C': 1000, 'gamma': 0.001, 'kernel': 'rbf'},\n",
       "  {'C': 1000, 'gamma': 0.0001, 'kernel': 'rbf'},\n",
       "  {'C': 1, 'kernel': 'linear'},\n",
       "  {'C': 10, 'kernel': 'linear'},\n",
       "  {'C': 100, 'kernel': 'linear'},\n",
       "  {'C': 1000, 'kernel': 'linear'}),\n",
       " 'rank_test_score': array([11, 12,  7,  9,  9,  3,  8,  1,  2,  4,  6,  5], dtype=int32),\n",
       " 'split0_test_score': array([ 0.85907046,  0.82158921,  0.89805097,  0.84557721,  0.87256372,\n",
       "         0.88905547,  0.89655172,  0.90254873,  0.91004498,  0.93103448,\n",
       "         0.90854573,  0.91754123]),\n",
       " 'split0_train_score': array([ 0.98349587,  0.97974494,  0.987997  ,  0.98274569,  0.99324831,\n",
       "         0.98424606,  0.99474869,  0.99024756,  0.95723931,  0.95873968,\n",
       "         0.9579895 ,  0.9579895 ]),\n",
       " 'split1_test_score': array([ 0.82608696,  0.85307346,  0.82608696,  0.85307346,  0.82608696,\n",
       "         0.85307346,  0.82608696,  0.85307346,  0.89055472,  0.89055472,\n",
       "         0.89055472,  0.89055472]),\n",
       " 'split1_train_score': array([ 1.,  1.,  1.,  1.,  1.,  1.,  1.,  1.,  1.,  1.,  1.,  1.]),\n",
       " 'split2_test_score': array([ 1.        ,  0.9984985 ,  0.99249249,  1.        ,  1.        ,\n",
       "         1.        ,  0.99099099,  1.        ,  0.94444444,  0.91891892,\n",
       "         0.93243243,  0.92642643]),\n",
       " 'split2_train_score': array([ 0.97076462,  0.95877061,  0.982009  ,  0.96101949,  0.99025487,\n",
       "         0.97001499,  0.994003  ,  0.988006  ,  0.93853073,  0.93778111,\n",
       "         0.93778111,  0.93703148]),\n",
       " 'std_fit_time': array([ 0.00555625,  0.00527297,  0.01135521,  0.01210968,  0.01333595,\n",
       "         0.01032655,  0.04279126,  0.02529136,  2.5873226 ,  4.25763344,\n",
       "         4.71839875,  3.60711547]),\n",
       " 'std_score_time': array([ 0.00587793,  0.00138979,  0.00073205,  0.00049134,  0.00078481,\n",
       "         0.00067676,  0.00080512,  0.00107275,  0.00047524,  0.00042888,\n",
       "         0.00100226,  0.00031509]),\n",
       " 'std_test_score': array([ 0.07540321,  0.07703631,  0.06813033,  0.07107689,  0.07350339,\n",
       "         0.06251678,  0.06754775,  0.06102718,  0.02227512,  0.01696758,\n",
       "         0.01715017,  0.01525357]),\n",
       " 'std_train_score': array([ 0.01196838,  0.01683268,  0.00748038,  0.01594859,  0.00407586,\n",
       "         0.01224659,  0.00266867,  0.00520673,  0.02572711,  0.02584756,\n",
       "         0.02591536,  0.02618132])}"
      ]
     },
     "execution_count": 9,
     "metadata": {},
     "output_type": "execute_result"
    }
   ],
   "source": [
    "gs.cv_results_"
   ]
  },
  {
   "cell_type": "markdown",
   "metadata": {},
   "source": [
    "Demo the use of param_projection... It identifies the unique values of the the two parameter values and gets the best score for each (here taking the max over `gamma` values)"
   ]
  },
  {
   "cell_type": "code",
   "execution_count": 10,
   "metadata": {},
   "outputs": [
    {
     "data": {
      "text/plain": [
       "([1, 10, 100, 1000],\n",
       " ['linear', 'rbf'],\n",
       " array([[ 0.915 ,  0.9135,  0.9105,  0.9115],\n",
       "        [ 0.895 ,  0.9055,  0.914 ,  0.9185]]))"
      ]
     },
     "execution_count": 10,
     "metadata": {},
     "output_type": "execute_result"
    }
   ],
   "source": [
    "param_1 = 'C'\n",
    "param_2 = 'kernel'\n",
    "param_1_vals, param2_vals, best_scores = param_projection(gs.cv_results_, param_1, param_2)\n",
    "param_1_vals, param2_vals, best_scores"
   ]
  },
  {
   "cell_type": "markdown",
   "metadata": {},
   "source": [
    "### GridSearchColorPlot\n",
    "\n",
    "This visualizer wraps the GridSearchCV object and plots the values obtained from `param_projection`."
   ]
  },
  {
   "cell_type": "code",
   "execution_count": 11,
   "metadata": {},
   "outputs": [],
   "source": [
    "from yellowbrick.gridsearch import GridSearchColorPlot"
   ]
  },
  {
   "cell_type": "code",
   "execution_count": 12,
   "metadata": {},
   "outputs": [
    {
     "data": {
      "image/png": "[encoded data removed]",
      "text/plain": [
       "<matplotlib.figure.Figure at 0x10b2c1cf8>"
      ]
     },
     "metadata": {},
     "output_type": "display_data"
    }
   ],
   "source": [
    "gs_viz = GridSearchColorPlot(gs, 'C', 'kernel')\n",
    "gs_viz.fit(X, y).poof()"
   ]
  },
  {
   "cell_type": "code",
   "execution_count": 13,
   "metadata": {},
   "outputs": [
    {
     "data": {
      "image/png": "[encoded data removed]",
      "text/plain": [
       "<matplotlib.figure.Figure at 0x10b352d68>"
      ]
     },
     "metadata": {},
     "output_type": "display_data"
    }
   ],
   "source": [
    "gs_viz = GridSearchColorPlot(gs, 'kernel', 'C')\n",
    "gs_viz.fit(X, y).poof()"
   ]
  },
  {
   "cell_type": "code",
   "execution_count": 14,
   "metadata": {},
   "outputs": [
    {
     "data": {
      "image/png": "[encoded data removed]",
      "text/plain": [
       "<matplotlib.figure.Figure at 0x108daca90>"
      ]
     },
     "metadata": {},
     "output_type": "display_data"
    }
   ],
   "source": [
    "gs_viz = GridSearchColorPlot(gs, 'C', 'gamma')\n",
    "gs_viz.fit(X, y).poof()"
   ]
  },
  {
   "cell_type": "markdown",
   "metadata": {},
   "source": [
    "If there are missing values in the grid, these are filled with a hatch (see https://stackoverflow.com/a/35905483/7637679)"
   ]
  },
  {
   "cell_type": "code",
   "execution_count": 15,
   "metadata": {},
   "outputs": [
    {
     "data": {
      "image/png": "[encoded data removed]",
      "text/plain": [
       "<matplotlib.figure.Figure at 0x108dacc88>"
      ]
     },
     "metadata": {},
     "output_type": "display_data"
    }
   ],
   "source": [
    "gs_viz = GridSearchColorPlot(gs, 'kernel', 'gamma')\n",
    "gs_viz.fit(X, y).poof()"
   ]
  },
  {
   "cell_type": "markdown",
   "metadata": {},
   "source": [
    "### Quick Method\n",
    "\n",
    "Because grid search can take a long time and we may want to interactively cut the results a few different ways, by default the quick method assumes that the GridSearchCV object is **already fit** if no X data is passed in. "
   ]
  },
  {
   "cell_type": "code",
   "execution_count": 16,
   "metadata": {
    "collapsed": true
   },
   "outputs": [],
   "source": [
    "from yellowbrick.gridsearch import gridsearch_color_plot"
   ]
  },
  {
   "cell_type": "code",
   "execution_count": 17,
   "metadata": {},
   "outputs": [
    {
     "name": "stdout",
     "output_type": "stream",
     "text": [
      "CPU times: user 103 ms, sys: 5.69 ms, total: 109 ms\n",
      "Wall time: 106 ms\n"
     ]
    },
    {
     "data": {
      "text/plain": [
       "<matplotlib.axes._subplots.AxesSubplot at 0x10b2fb128>"
      ]
     },
     "execution_count": 17,
     "metadata": {},
     "output_type": "execute_result"
    },
    {
     "data": {
      "image/png": "[encoded data removed]",
      "text/plain": [
       "<matplotlib.figure.Figure at 0x10b3bf470>"
      ]
     },
     "metadata": {},
     "output_type": "display_data"
    }
   ],
   "source": [
    "%%time\n",
    "# passing the GridSearchCV object pre-fit\n",
    "gridsearch_color_plot(gs, 'C', 'kernel')"
   ]
  },
  {
   "cell_type": "code",
   "execution_count": 18,
   "metadata": {},
   "outputs": [
    {
     "name": "stdout",
     "output_type": "stream",
     "text": [
      "CPU times: user 108 ms, sys: 4.98 ms, total: 113 ms\n",
      "Wall time: 112 ms\n"
     ]
    },
    {
     "data": {
      "text/plain": [
       "<matplotlib.axes._subplots.AxesSubplot at 0x10b431c18>"
      ]
     },
     "execution_count": 18,
     "metadata": {},
     "output_type": "execute_result"
    },
    {
     "data": {
      "image/png": "[encoded data removed]",
      "text/plain": [
       "<matplotlib.figure.Figure at 0x10b28b898>"
      ]
     },
     "metadata": {},
     "output_type": "display_data"
    }
   ],
   "source": [
    "%%time\n",
    "# trying a different cut across parameters\n",
    "gridsearch_color_plot(gs, 'C', 'gamma')"
   ]
  },
  {
   "cell_type": "code",
   "execution_count": 19,
   "metadata": {},
   "outputs": [
    {
     "name": "stdout",
     "output_type": "stream",
     "text": [
      "CPU times: user 260 ms, sys: 45.8 ms, total: 305 ms\n",
      "Wall time: 26.9 s\n"
     ]
    },
    {
     "data": {
      "text/plain": [
       "<matplotlib.axes._subplots.AxesSubplot at 0x10b396470>"
      ]
     },
     "execution_count": 19,
     "metadata": {},
     "output_type": "execute_result"
    },
    {
     "data": {
      "image/png": "[encoded data removed]",
      "text/plain": [
       "<matplotlib.figure.Figure at 0x10b69eb38>"
      ]
     },
     "metadata": {},
     "output_type": "display_data"
    }
   ],
   "source": [
    "%%time\n",
    "# When we provide X, the `fit` method will call fit (takes longer)\n",
    "gridsearch_color_plot(gs, 'C', 'kernel', X=X, y=y)"
   ]
  },
  {
   "cell_type": "code",
   "execution_count": null,
   "metadata": {
    "collapsed": true
   },
   "outputs": [],
   "source": []
  }
 ],
 "metadata": {
  "anaconda-cloud": {},
  "kernelspec": {
   "display_name": "Python 3",
   "language": "python",
   "name": "python3"
  },
  "language_info": {
   "codemirror_mode": {
    "name": "ipython",
    "version": 3
   },
   "file_extension": ".py",
   "mimetype": "text/x-python",
   "name": "python",
   "nbconvert_exporter": "python",
   "pygments_lexer": "ipython3",
   "version": "3.6.1"
  }
 },
 "nbformat": 4,
 "nbformat_minor": 1
}
